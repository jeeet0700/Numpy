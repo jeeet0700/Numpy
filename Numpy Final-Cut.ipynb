{
 "cells": [
  {
   "cell_type": "markdown",
   "id": "51495e54",
   "metadata": {},
   "source": [
    "## Numpy D1"
   ]
  },
  {
   "cell_type": "code",
   "execution_count": 4,
   "id": "a17a91c0",
   "metadata": {},
   "outputs": [],
   "source": [
    "import numpy as np"
   ]
  },
  {
   "cell_type": "code",
   "execution_count": 2,
   "id": "254150e1",
   "metadata": {},
   "outputs": [
    {
     "data": {
      "text/plain": [
       "[1, 4, 9, 16, 25, 36]"
      ]
     },
     "execution_count": 2,
     "metadata": {},
     "output_type": "execute_result"
    }
   ],
   "source": [
    "a=[1,2,3,4,5,6]\n",
    "b=[i**2 for i in a]\n",
    "b"
   ]
  },
  {
   "cell_type": "code",
   "execution_count": 3,
   "id": "ee97e146",
   "metadata": {},
   "outputs": [
    {
     "data": {
      "text/plain": [
       "array([ 1,  4,  9, 16, 25, 36])"
      ]
     },
     "execution_count": 3,
     "metadata": {},
     "output_type": "execute_result"
    }
   ],
   "source": [
    "a=np.array([1,2,3,4,5,6])\n",
    "a**2"
   ]
  },
  {
   "cell_type": "code",
   "execution_count": 4,
   "id": "59fd4ec6",
   "metadata": {},
   "outputs": [
    {
     "data": {
      "text/plain": [
       "numpy.ndarray"
      ]
     },
     "execution_count": 4,
     "metadata": {},
     "output_type": "execute_result"
    }
   ],
   "source": [
    "type(a)"
   ]
  },
  {
   "cell_type": "code",
   "execution_count": 5,
   "id": "de406e87",
   "metadata": {},
   "outputs": [
    {
     "data": {
      "text/plain": [
       "dtype('int64')"
      ]
     },
     "execution_count": 5,
     "metadata": {},
     "output_type": "execute_result"
    }
   ],
   "source": [
    "a.dtype"
   ]
  },
  {
   "cell_type": "code",
   "execution_count": 6,
   "id": "16e9f90c",
   "metadata": {},
   "outputs": [],
   "source": [
    "a=range(100000)"
   ]
  },
  {
   "cell_type": "code",
   "execution_count": 7,
   "id": "c30c5f89",
   "metadata": {},
   "outputs": [
    {
     "name": "stdout",
     "output_type": "stream",
     "text": [
      "42.3 ms ± 1.07 ms per loop (mean ± std. dev. of 7 runs, 10 loops each)\n"
     ]
    }
   ],
   "source": [
    "%timeit [i**2 for i in a]"
   ]
  },
  {
   "cell_type": "code",
   "execution_count": 8,
   "id": "e5a7c695",
   "metadata": {},
   "outputs": [],
   "source": [
    "b=np.arange(100000)"
   ]
  },
  {
   "cell_type": "code",
   "execution_count": 10,
   "id": "1bf57d3e",
   "metadata": {},
   "outputs": [
    {
     "name": "stdout",
     "output_type": "stream",
     "text": [
      "96.8 µs ± 4.23 µs per loop (mean ± std. dev. of 7 runs, 10000 loops each)\n"
     ]
    }
   ],
   "source": [
    "%timeit b**2"
   ]
  },
  {
   "cell_type": "code",
   "execution_count": 11,
   "id": "abc1189d",
   "metadata": {},
   "outputs": [
    {
     "data": {
      "text/plain": [
       "numpy.ndarray"
      ]
     },
     "execution_count": 11,
     "metadata": {},
     "output_type": "execute_result"
    }
   ],
   "source": [
    "type(np.array([1,2,3]))"
   ]
  },
  {
   "cell_type": "code",
   "execution_count": 13,
   "id": "1de0f190",
   "metadata": {},
   "outputs": [
    {
     "data": {
      "text/plain": [
       "dtype('float64')"
      ]
     },
     "execution_count": 13,
     "metadata": {},
     "output_type": "execute_result"
    }
   ],
   "source": [
    "(np.array([1,2,3.3])).dtype"
   ]
  },
  {
   "cell_type": "code",
   "execution_count": 14,
   "id": "48e1d1f1",
   "metadata": {},
   "outputs": [
    {
     "data": {
      "text/plain": [
       "range(0, 100000)"
      ]
     },
     "execution_count": 14,
     "metadata": {},
     "output_type": "execute_result"
    }
   ],
   "source": [
    "a"
   ]
  },
  {
   "cell_type": "code",
   "execution_count": 15,
   "id": "c873c4dd",
   "metadata": {},
   "outputs": [
    {
     "data": {
      "text/plain": [
       "1"
      ]
     },
     "execution_count": 15,
     "metadata": {},
     "output_type": "execute_result"
    }
   ],
   "source": [
    "a=np.array([1,2,3,4,5,6])\n",
    "a.ndim"
   ]
  },
  {
   "cell_type": "code",
   "execution_count": 16,
   "id": "35bdf72e",
   "metadata": {},
   "outputs": [
    {
     "data": {
      "text/plain": [
       "(6,)"
      ]
     },
     "execution_count": 16,
     "metadata": {},
     "output_type": "execute_result"
    }
   ],
   "source": [
    "a.shape"
   ]
  },
  {
   "cell_type": "code",
   "execution_count": 18,
   "id": "5a884b2e",
   "metadata": {},
   "outputs": [
    {
     "data": {
      "text/plain": [
       "array([0, 1, 2, 3, 4, 5, 6, 7, 8, 9])"
      ]
     },
     "execution_count": 18,
     "metadata": {},
     "output_type": "execute_result"
    }
   ],
   "source": [
    "np.arange(10)"
   ]
  },
  {
   "cell_type": "code",
   "execution_count": 19,
   "id": "ba09f3d0",
   "metadata": {},
   "outputs": [
    {
     "data": {
      "text/plain": [
       "array([1, 2, 3, 4, 5, 6, 7, 8, 9])"
      ]
     },
     "execution_count": 19,
     "metadata": {},
     "output_type": "execute_result"
    }
   ],
   "source": [
    "np.arange(1,10)"
   ]
  },
  {
   "cell_type": "code",
   "execution_count": 20,
   "id": "5f2e866f",
   "metadata": {},
   "outputs": [
    {
     "data": {
      "text/plain": [
       "array([1, 3, 5, 7, 9])"
      ]
     },
     "execution_count": 20,
     "metadata": {},
     "output_type": "execute_result"
    }
   ],
   "source": [
    "np.arange(1,10,2)"
   ]
  },
  {
   "cell_type": "code",
   "execution_count": 21,
   "id": "c7721015",
   "metadata": {},
   "outputs": [
    {
     "data": {
      "text/plain": [
       "array([ 1.  ,  3.25,  5.5 ,  7.75, 10.  ])"
      ]
     },
     "execution_count": 21,
     "metadata": {},
     "output_type": "execute_result"
    }
   ],
   "source": [
    "np.linspace(1,10,5)"
   ]
  },
  {
   "cell_type": "code",
   "execution_count": 22,
   "id": "5dc4016f",
   "metadata": {},
   "outputs": [
    {
     "data": {
      "text/plain": [
       "array([ 1.        ,  1.47368421,  1.94736842,  2.42105263,  2.89473684,\n",
       "        3.36842105,  3.84210526,  4.31578947,  4.78947368,  5.26315789,\n",
       "        5.73684211,  6.21052632,  6.68421053,  7.15789474,  7.63157895,\n",
       "        8.10526316,  8.57894737,  9.05263158,  9.52631579, 10.        ])"
      ]
     },
     "execution_count": 22,
     "metadata": {},
     "output_type": "execute_result"
    }
   ],
   "source": [
    "np.linspace(1,10,20)"
   ]
  },
  {
   "cell_type": "code",
   "execution_count": 23,
   "id": "59aee831",
   "metadata": {},
   "outputs": [
    {
     "data": {
      "text/plain": [
       "array([[1, 2, 3],\n",
       "       [4, 5, 6],\n",
       "       [7, 8, 9]])"
      ]
     },
     "execution_count": 23,
     "metadata": {},
     "output_type": "execute_result"
    }
   ],
   "source": [
    "a=np.array([[1,2,3],[4,5,6],[7,8,9]])\n",
    "a"
   ]
  },
  {
   "cell_type": "code",
   "execution_count": 24,
   "id": "ab65f301",
   "metadata": {},
   "outputs": [
    {
     "data": {
      "text/plain": [
       "2"
      ]
     },
     "execution_count": 24,
     "metadata": {},
     "output_type": "execute_result"
    }
   ],
   "source": [
    "a.ndim"
   ]
  },
  {
   "cell_type": "code",
   "execution_count": 25,
   "id": "c95850b0",
   "metadata": {},
   "outputs": [
    {
     "data": {
      "text/plain": [
       "(3, 3)"
      ]
     },
     "execution_count": 25,
     "metadata": {},
     "output_type": "execute_result"
    }
   ],
   "source": [
    "a.shape"
   ]
  },
  {
   "cell_type": "code",
   "execution_count": 26,
   "id": "3cf02df9",
   "metadata": {},
   "outputs": [
    {
     "data": {
      "text/plain": [
       "array([ 1,  2,  3,  4,  5,  6,  7,  8,  9, 10, 11, 12])"
      ]
     },
     "execution_count": 26,
     "metadata": {},
     "output_type": "execute_result"
    }
   ],
   "source": [
    "a=np.arange(1,13)\n",
    "a"
   ]
  },
  {
   "cell_type": "code",
   "execution_count": 27,
   "id": "d4b19e60",
   "metadata": {},
   "outputs": [
    {
     "data": {
      "text/plain": [
       "array([[ 1,  2,  3,  4,  5,  6,  7,  8,  9, 10, 11, 12]])"
      ]
     },
     "execution_count": 27,
     "metadata": {},
     "output_type": "execute_result"
    }
   ],
   "source": [
    "a.reshape(1,12)"
   ]
  },
  {
   "cell_type": "code",
   "execution_count": 28,
   "id": "d60b09cf",
   "metadata": {},
   "outputs": [
    {
     "data": {
      "text/plain": [
       "array([[ 1],\n",
       "       [ 2],\n",
       "       [ 3],\n",
       "       [ 4],\n",
       "       [ 5],\n",
       "       [ 6],\n",
       "       [ 7],\n",
       "       [ 8],\n",
       "       [ 9],\n",
       "       [10],\n",
       "       [11],\n",
       "       [12]])"
      ]
     },
     "execution_count": 28,
     "metadata": {},
     "output_type": "execute_result"
    }
   ],
   "source": [
    "a.reshape(12,1)"
   ]
  },
  {
   "cell_type": "code",
   "execution_count": 29,
   "id": "41172c77",
   "metadata": {},
   "outputs": [
    {
     "data": {
      "text/plain": [
       "array([[ 1],\n",
       "       [ 2],\n",
       "       [ 3],\n",
       "       [ 4],\n",
       "       [ 5],\n",
       "       [ 6],\n",
       "       [ 7],\n",
       "       [ 8],\n",
       "       [ 9],\n",
       "       [10],\n",
       "       [11],\n",
       "       [12]])"
      ]
     },
     "execution_count": 29,
     "metadata": {},
     "output_type": "execute_result"
    }
   ],
   "source": [
    "a.reshape((12,1))"
   ]
  },
  {
   "cell_type": "code",
   "execution_count": 30,
   "id": "35990d8d",
   "metadata": {},
   "outputs": [
    {
     "data": {
      "text/plain": [
       "array([[ 1,  2,  3,  4,  5,  6],\n",
       "       [ 7,  8,  9, 10, 11, 12]])"
      ]
     },
     "execution_count": 30,
     "metadata": {},
     "output_type": "execute_result"
    }
   ],
   "source": [
    "a.reshape(-1,6)"
   ]
  },
  {
   "cell_type": "code",
   "execution_count": 31,
   "id": "6aa90c55",
   "metadata": {},
   "outputs": [
    {
     "data": {
      "text/plain": [
       "array([[ 1,  2],\n",
       "       [ 3,  4],\n",
       "       [ 5,  6],\n",
       "       [ 7,  8],\n",
       "       [ 9, 10],\n",
       "       [11, 12]])"
      ]
     },
     "execution_count": 31,
     "metadata": {},
     "output_type": "execute_result"
    }
   ],
   "source": [
    "a.reshape(6,-1)"
   ]
  },
  {
   "cell_type": "code",
   "execution_count": 32,
   "id": "c6583526",
   "metadata": {},
   "outputs": [
    {
     "data": {
      "text/plain": [
       "array([[ 1,  2,  3,  4],\n",
       "       [ 5,  6,  7,  8],\n",
       "       [ 9, 10, 11, 12]])"
      ]
     },
     "execution_count": 32,
     "metadata": {},
     "output_type": "execute_result"
    }
   ],
   "source": [
    "b=a.reshape(3,4)\n",
    "b"
   ]
  },
  {
   "cell_type": "code",
   "execution_count": 33,
   "id": "681d50ea",
   "metadata": {},
   "outputs": [
    {
     "data": {
      "text/plain": [
       "array([[ 1,  5,  9],\n",
       "       [ 2,  6, 10],\n",
       "       [ 3,  7, 11],\n",
       "       [ 4,  8, 12]])"
      ]
     },
     "execution_count": 33,
     "metadata": {},
     "output_type": "execute_result"
    }
   ],
   "source": [
    "b.T"
   ]
  },
  {
   "cell_type": "code",
   "execution_count": 34,
   "id": "b485926f",
   "metadata": {},
   "outputs": [],
   "source": [
    "a=np.arange(1,13).reshape(3,4)"
   ]
  },
  {
   "cell_type": "code",
   "execution_count": 35,
   "id": "4103f36d",
   "metadata": {},
   "outputs": [
    {
     "data": {
      "text/plain": [
       "array([[ 1,  2,  3,  4],\n",
       "       [ 5,  6,  7,  8],\n",
       "       [ 9, 10, 11, 12]])"
      ]
     },
     "execution_count": 35,
     "metadata": {},
     "output_type": "execute_result"
    }
   ],
   "source": [
    "a"
   ]
  },
  {
   "cell_type": "code",
   "execution_count": 36,
   "id": "45d35315",
   "metadata": {},
   "outputs": [
    {
     "data": {
      "text/plain": [
       "array([ 1,  2,  3,  4,  5,  6,  7,  8,  9, 10, 11, 12])"
      ]
     },
     "execution_count": 36,
     "metadata": {},
     "output_type": "execute_result"
    }
   ],
   "source": [
    "a=np.arange(1,13)\n",
    "a"
   ]
  },
  {
   "cell_type": "code",
   "execution_count": 37,
   "id": "7dd4890f",
   "metadata": {},
   "outputs": [
    {
     "data": {
      "text/plain": [
       "array([1, 2, 3, 4, 5])"
      ]
     },
     "execution_count": 37,
     "metadata": {},
     "output_type": "execute_result"
    }
   ],
   "source": [
    "a[0:5]"
   ]
  },
  {
   "cell_type": "code",
   "execution_count": 38,
   "id": "d9305e40",
   "metadata": {},
   "outputs": [
    {
     "data": {
      "text/plain": [
       "array([ 6,  7,  8,  9, 10, 11, 12])"
      ]
     },
     "execution_count": 38,
     "metadata": {},
     "output_type": "execute_result"
    }
   ],
   "source": [
    "a[5:]"
   ]
  },
  {
   "cell_type": "code",
   "execution_count": 40,
   "id": "8e138c22",
   "metadata": {},
   "outputs": [
    {
     "data": {
      "text/plain": [
       "array([ 9, 10, 11, 12])"
      ]
     },
     "execution_count": 40,
     "metadata": {},
     "output_type": "execute_result"
    }
   ],
   "source": [
    "a[-4:]"
   ]
  },
  {
   "cell_type": "code",
   "execution_count": 41,
   "id": "2ed044d2",
   "metadata": {},
   "outputs": [
    {
     "data": {
      "text/plain": [
       "array([ 1,  3,  5,  7,  9, 11])"
      ]
     },
     "execution_count": 41,
     "metadata": {},
     "output_type": "execute_result"
    }
   ],
   "source": [
    "a[::2]"
   ]
  },
  {
   "cell_type": "code",
   "execution_count": 42,
   "id": "4973d23a",
   "metadata": {},
   "outputs": [
    {
     "data": {
      "text/plain": [
       "array([12, 11, 10,  9,  8,  7,  6,  5,  4,  3,  2,  1])"
      ]
     },
     "execution_count": 42,
     "metadata": {},
     "output_type": "execute_result"
    }
   ],
   "source": [
    "a[::-1]"
   ]
  },
  {
   "cell_type": "code",
   "execution_count": 43,
   "id": "92c4dc52",
   "metadata": {},
   "outputs": [
    {
     "data": {
      "text/plain": [
       "array([12, 10,  8,  6,  4,  2])"
      ]
     },
     "execution_count": 43,
     "metadata": {},
     "output_type": "execute_result"
    }
   ],
   "source": [
    "a[::-2]"
   ]
  },
  {
   "cell_type": "code",
   "execution_count": 44,
   "id": "135686e5",
   "metadata": {},
   "outputs": [
    {
     "data": {
      "text/plain": [
       "array([], dtype=int64)"
      ]
     },
     "execution_count": 44,
     "metadata": {},
     "output_type": "execute_result"
    }
   ],
   "source": [
    "a[-10:-2:-1]"
   ]
  },
  {
   "cell_type": "code",
   "execution_count": 46,
   "id": "12568785",
   "metadata": {},
   "outputs": [
    {
     "data": {
      "text/plain": [
       "array([ 3,  4,  5,  6,  7,  8,  9, 10])"
      ]
     },
     "execution_count": 46,
     "metadata": {},
     "output_type": "execute_result"
    }
   ],
   "source": [
    "a[-10:-2:1]"
   ]
  },
  {
   "cell_type": "code",
   "execution_count": 47,
   "id": "9f6d1e69",
   "metadata": {},
   "outputs": [],
   "source": [
    "a=np.arange(1,13).reshape(3,4)"
   ]
  },
  {
   "cell_type": "code",
   "execution_count": 48,
   "id": "e8bd4733",
   "metadata": {},
   "outputs": [
    {
     "data": {
      "text/plain": [
       "array([[ 1,  2,  3,  4],\n",
       "       [ 5,  6,  7,  8],\n",
       "       [ 9, 10, 11, 12]])"
      ]
     },
     "execution_count": 48,
     "metadata": {},
     "output_type": "execute_result"
    }
   ],
   "source": [
    "a"
   ]
  },
  {
   "cell_type": "code",
   "execution_count": 49,
   "id": "b52b52cd",
   "metadata": {},
   "outputs": [
    {
     "data": {
      "text/plain": [
       "array([[1, 2, 3, 4]])"
      ]
     },
     "execution_count": 49,
     "metadata": {},
     "output_type": "execute_result"
    }
   ],
   "source": [
    "a[:1]"
   ]
  },
  {
   "cell_type": "code",
   "execution_count": 50,
   "id": "f4c015ae",
   "metadata": {},
   "outputs": [
    {
     "data": {
      "text/plain": [
       "array([5, 6, 7, 8])"
      ]
     },
     "execution_count": 50,
     "metadata": {},
     "output_type": "execute_result"
    }
   ],
   "source": [
    "a[1]"
   ]
  },
  {
   "cell_type": "code",
   "execution_count": 54,
   "id": "5da22e39",
   "metadata": {},
   "outputs": [
    {
     "data": {
      "text/plain": [
       "array([[ 5,  6,  7,  8],\n",
       "       [ 9, 10, 11, 12]])"
      ]
     },
     "execution_count": 54,
     "metadata": {},
     "output_type": "execute_result"
    }
   ],
   "source": [
    "a[1:]"
   ]
  },
  {
   "cell_type": "code",
   "execution_count": 55,
   "id": "8061ace2",
   "metadata": {},
   "outputs": [
    {
     "data": {
      "text/plain": [
       "array([[ 6],\n",
       "       [10]])"
      ]
     },
     "execution_count": 55,
     "metadata": {},
     "output_type": "execute_result"
    }
   ],
   "source": [
    "a[1:3,1:2]"
   ]
  },
  {
   "cell_type": "code",
   "execution_count": 56,
   "id": "8780204a",
   "metadata": {},
   "outputs": [
    {
     "data": {
      "text/plain": [
       "array([[ 1,  2,  3,  4],\n",
       "       [ 5,  6,  7,  8],\n",
       "       [ 9, 10, 11, 12]])"
      ]
     },
     "execution_count": 56,
     "metadata": {},
     "output_type": "execute_result"
    }
   ],
   "source": [
    "a"
   ]
  },
  {
   "cell_type": "code",
   "execution_count": 58,
   "id": "5876a959",
   "metadata": {},
   "outputs": [
    {
     "data": {
      "text/plain": [
       "array([[ 1,  2,  3],\n",
       "       [ 4,  5,  6],\n",
       "       [ 7,  8,  9],\n",
       "       [10, 11, 12]])"
      ]
     },
     "execution_count": 58,
     "metadata": {},
     "output_type": "execute_result"
    }
   ],
   "source": [
    "a=a.reshape(4,3)\n",
    "a"
   ]
  },
  {
   "cell_type": "code",
   "execution_count": 59,
   "id": "acbc6594",
   "metadata": {},
   "outputs": [
    {
     "data": {
      "text/plain": [
       "array([[1, 3],\n",
       "       [7, 9]])"
      ]
     },
     "execution_count": 59,
     "metadata": {},
     "output_type": "execute_result"
    }
   ],
   "source": [
    "a[::2,::2]"
   ]
  },
  {
   "cell_type": "code",
   "execution_count": 60,
   "id": "9e3eedc5",
   "metadata": {},
   "outputs": [
    {
     "data": {
      "text/plain": [
       "array([ 3,  6,  9, 12])"
      ]
     },
     "execution_count": 60,
     "metadata": {},
     "output_type": "execute_result"
    }
   ],
   "source": [
    "a[:,2]"
   ]
  },
  {
   "cell_type": "code",
   "execution_count": 61,
   "id": "3d84fd81",
   "metadata": {},
   "outputs": [
    {
     "data": {
      "text/plain": [
       "array([ 2,  5,  8, 11])"
      ]
     },
     "execution_count": 61,
     "metadata": {},
     "output_type": "execute_result"
    }
   ],
   "source": [
    "a[:,1]"
   ]
  },
  {
   "cell_type": "code",
   "execution_count": 62,
   "id": "8f3a66a9",
   "metadata": {},
   "outputs": [
    {
     "data": {
      "text/plain": [
       "array([ 1,  4,  7, 10])"
      ]
     },
     "execution_count": 62,
     "metadata": {},
     "output_type": "execute_result"
    }
   ],
   "source": [
    "a[:,0]"
   ]
  },
  {
   "cell_type": "code",
   "execution_count": 63,
   "id": "c2e34629",
   "metadata": {},
   "outputs": [],
   "source": [
    "A = np.array([2, 0, 1, 9, 1, 1, 1, 0, 3, 5])"
   ]
  },
  {
   "cell_type": "code",
   "execution_count": 64,
   "id": "213fbb57",
   "metadata": {},
   "outputs": [
    {
     "data": {
      "text/plain": [
       "[3, 1, 2, 10, 2, 2, 2, 1, 4, 6]"
      ]
     },
     "execution_count": 64,
     "metadata": {},
     "output_type": "execute_result"
    }
   ],
   "source": [
    "list(map(lambda x:x+1, A))"
   ]
  },
  {
   "cell_type": "code",
   "execution_count": 65,
   "id": "6a56c73b",
   "metadata": {},
   "outputs": [
    {
     "data": {
      "text/plain": [
       "[3, 1, 2, 10, 2, 2, 2, 1, 4, 6]"
      ]
     },
     "execution_count": 65,
     "metadata": {},
     "output_type": "execute_result"
    }
   ],
   "source": [
    "[x+1 for x in A]"
   ]
  },
  {
   "cell_type": "code",
   "execution_count": 66,
   "id": "5996ea07",
   "metadata": {},
   "outputs": [
    {
     "data": {
      "text/plain": [
       "array([[ 1,  2,  3],\n",
       "       [ 4,  5,  6],\n",
       "       [ 7,  8,  9],\n",
       "       [10, 11, 12]])"
      ]
     },
     "execution_count": 66,
     "metadata": {},
     "output_type": "execute_result"
    }
   ],
   "source": [
    "a"
   ]
  },
  {
   "cell_type": "code",
   "execution_count": 67,
   "id": "2d7552dc",
   "metadata": {},
   "outputs": [
    {
     "data": {
      "text/plain": [
       "array([[1, 2, 3],\n",
       "       [7, 8, 9]])"
      ]
     },
     "execution_count": 67,
     "metadata": {},
     "output_type": "execute_result"
    }
   ],
   "source": [
    "a[::2]"
   ]
  },
  {
   "cell_type": "code",
   "execution_count": 85,
   "id": "d875b268",
   "metadata": {},
   "outputs": [
    {
     "data": {
      "text/plain": [
       "array([5.        , 5.22222222, 5.44444444, 5.66666667, 5.88888889,\n",
       "       6.11111111, 6.33333333, 6.55555556, 6.77777778, 7.        ])"
      ]
     },
     "execution_count": 85,
     "metadata": {},
     "output_type": "execute_result"
    }
   ],
   "source": [
    "np.linspace(5,7,10)"
   ]
  },
  {
   "cell_type": "code",
   "execution_count": 86,
   "id": "3e0064c8",
   "metadata": {},
   "outputs": [
    {
     "data": {
      "text/plain": [
       "array([5, 8])"
      ]
     },
     "execution_count": 86,
     "metadata": {},
     "output_type": "execute_result"
    }
   ],
   "source": [
    "np.arange(5,10,3)"
   ]
  },
  {
   "cell_type": "code",
   "execution_count": 82,
   "id": "285fb16b",
   "metadata": {},
   "outputs": [
    {
     "data": {
      "text/plain": [
       "array([ 2,  6, 10])"
      ]
     },
     "execution_count": 82,
     "metadata": {},
     "output_type": "execute_result"
    }
   ],
   "source": [
    "a[:,1]"
   ]
  },
  {
   "cell_type": "code",
   "execution_count": 83,
   "id": "acd8e701",
   "metadata": {},
   "outputs": [
    {
     "data": {
      "text/plain": [
       "array([ 1,  3,  8, 10])"
      ]
     },
     "execution_count": 83,
     "metadata": {},
     "output_type": "execute_result"
    }
   ],
   "source": [
    "a[[0,0,1,2],[0,2,3,1]]"
   ]
  },
  {
   "cell_type": "code",
   "execution_count": 87,
   "id": "d64d00fc",
   "metadata": {},
   "outputs": [
    {
     "data": {
      "text/plain": [
       "array([[ 1,  2,  3,  4],\n",
       "       [ 5,  6,  7,  8],\n",
       "       [ 9, 10, 11, 12]])"
      ]
     },
     "execution_count": 87,
     "metadata": {},
     "output_type": "execute_result"
    }
   ],
   "source": [
    "a"
   ]
  },
  {
   "cell_type": "code",
   "execution_count": 88,
   "id": "b20cdb3e",
   "metadata": {},
   "outputs": [
    {
     "data": {
      "text/plain": [
       "array([[False, False, False, False],\n",
       "       [False, False, False, False],\n",
       "       [False, False, False, False]])"
      ]
     },
     "execution_count": 88,
     "metadata": {},
     "output_type": "execute_result"
    }
   ],
   "source": [
    "a>40"
   ]
  },
  {
   "cell_type": "code",
   "execution_count": 93,
   "id": "789974d7",
   "metadata": {},
   "outputs": [
    {
     "data": {
      "text/plain": [
       "array([False, False, False])"
      ]
     },
     "execution_count": 93,
     "metadata": {},
     "output_type": "execute_result"
    }
   ],
   "source": [
    "arr1 = np.array(['Ram','Astha','Brahat'])\n",
    "arr2 = np.array(['Shyam','Kalyan','Naveen'])\n",
    "arr1 > arr2"
   ]
  },
  {
   "cell_type": "code",
   "execution_count": 94,
   "id": "d87cea6e",
   "metadata": {},
   "outputs": [],
   "source": [
    "a=np.arange(1,13)"
   ]
  },
  {
   "cell_type": "code",
   "execution_count": 95,
   "id": "d57217d5",
   "metadata": {},
   "outputs": [
    {
     "data": {
      "text/plain": [
       "array([ 1,  2,  3,  4,  5,  6,  7,  8,  9, 10, 11, 12])"
      ]
     },
     "execution_count": 95,
     "metadata": {},
     "output_type": "execute_result"
    }
   ],
   "source": [
    "a"
   ]
  },
  {
   "cell_type": "code",
   "execution_count": 96,
   "id": "843da924",
   "metadata": {},
   "outputs": [
    {
     "data": {
      "text/plain": [
       "2"
      ]
     },
     "execution_count": 96,
     "metadata": {},
     "output_type": "execute_result"
    }
   ],
   "source": [
    "a[1]"
   ]
  },
  {
   "cell_type": "code",
   "execution_count": 97,
   "id": "fb3087d4",
   "metadata": {},
   "outputs": [
    {
     "data": {
      "text/plain": [
       "12"
      ]
     },
     "execution_count": 97,
     "metadata": {},
     "output_type": "execute_result"
    }
   ],
   "source": [
    "a[-1]"
   ]
  },
  {
   "cell_type": "code",
   "execution_count": 98,
   "id": "1cb37267",
   "metadata": {},
   "outputs": [
    {
     "data": {
      "text/plain": [
       "array([1, 2, 3, 4, 5])"
      ]
     },
     "execution_count": 98,
     "metadata": {},
     "output_type": "execute_result"
    }
   ],
   "source": [
    "a[:5]"
   ]
  },
  {
   "cell_type": "code",
   "execution_count": 99,
   "id": "f48929e8",
   "metadata": {},
   "outputs": [
    {
     "data": {
      "text/plain": [
       "array([ 8,  9, 10, 11])"
      ]
     },
     "execution_count": 99,
     "metadata": {},
     "output_type": "execute_result"
    }
   ],
   "source": [
    "a[-5:-1]"
   ]
  },
  {
   "cell_type": "code",
   "execution_count": 101,
   "id": "262c156f",
   "metadata": {},
   "outputs": [
    {
     "data": {
      "text/plain": [
       "array([], dtype=int64)"
      ]
     },
     "execution_count": 101,
     "metadata": {},
     "output_type": "execute_result"
    }
   ],
   "source": [
    "a[-5:-1:-1]"
   ]
  },
  {
   "cell_type": "code",
   "execution_count": 103,
   "id": "fd327589",
   "metadata": {},
   "outputs": [
    {
     "data": {
      "text/plain": [
       "array([ 1,  2,  3,  4, 10, 10])"
      ]
     },
     "execution_count": 103,
     "metadata": {},
     "output_type": "execute_result"
    }
   ],
   "source": [
    "b=np.array([1,2,3,4,5,6])\n",
    "b[4:]=10\n",
    "b"
   ]
  },
  {
   "cell_type": "code",
   "execution_count": 109,
   "id": "89ca10d6",
   "metadata": {},
   "outputs": [
    {
     "data": {
      "text/plain": [
       "array([1, 2, 6, 7, 8])"
      ]
     },
     "execution_count": 109,
     "metadata": {},
     "output_type": "execute_result"
    }
   ],
   "source": [
    "a=np.array([1,2,3,4,5])\n",
    "b=np.array([8,7,6])\n",
    "a[2:]=b[::-1]\n",
    "a"
   ]
  },
  {
   "cell_type": "code",
   "execution_count": 110,
   "id": "0e6aa820",
   "metadata": {},
   "outputs": [
    {
     "data": {
      "text/plain": [
       "array([ 1,  2,  3,  4,  5,  6,  7,  8,  9, 10, 11, 12])"
      ]
     },
     "execution_count": 110,
     "metadata": {},
     "output_type": "execute_result"
    }
   ],
   "source": [
    "a=np.arange(1,13)\n",
    "a"
   ]
  },
  {
   "cell_type": "code",
   "execution_count": 111,
   "id": "6027fa0f",
   "metadata": {},
   "outputs": [
    {
     "data": {
      "text/plain": [
       "array([ True,  True,  True,  True,  True, False, False, False, False,\n",
       "       False, False, False])"
      ]
     },
     "execution_count": 111,
     "metadata": {},
     "output_type": "execute_result"
    }
   ],
   "source": [
    "a<6 #mask"
   ]
  },
  {
   "cell_type": "code",
   "execution_count": 112,
   "id": "f942c439",
   "metadata": {},
   "outputs": [
    {
     "data": {
      "text/plain": [
       "array([1, 2, 3, 4, 5])"
      ]
     },
     "execution_count": 112,
     "metadata": {},
     "output_type": "execute_result"
    }
   ],
   "source": [
    "a[a<6]"
   ]
  },
  {
   "cell_type": "code",
   "execution_count": 113,
   "id": "563b4e79",
   "metadata": {},
   "outputs": [
    {
     "data": {
      "text/plain": [
       "array([ 2,  4,  6,  8, 10, 12])"
      ]
     },
     "execution_count": 113,
     "metadata": {},
     "output_type": "execute_result"
    }
   ],
   "source": [
    "a[a%2==0]"
   ]
  },
  {
   "cell_type": "code",
   "execution_count": 114,
   "id": "acfe9fb3",
   "metadata": {},
   "outputs": [
    {
     "data": {
      "text/plain": [
       "array([False,  True, False,  True,  True,  True, False,  True, False,\n",
       "        True, False,  True])"
      ]
     },
     "execution_count": 114,
     "metadata": {},
     "output_type": "execute_result"
    }
   ],
   "source": [
    "(a%2==0) | (a%5==0)"
   ]
  },
  {
   "cell_type": "code",
   "execution_count": 115,
   "id": "cf58b6af",
   "metadata": {},
   "outputs": [
    {
     "data": {
      "text/plain": [
       "array([ 2,  4,  5,  6,  8, 10, 12])"
      ]
     },
     "execution_count": 115,
     "metadata": {},
     "output_type": "execute_result"
    }
   ],
   "source": [
    "a[(a%2==0) | (a%5==0)]"
   ]
  },
  {
   "cell_type": "code",
   "execution_count": 116,
   "id": "4a164fd6",
   "metadata": {},
   "outputs": [
    {
     "data": {
      "text/plain": [
       "array([4, 4, 4])"
      ]
     },
     "execution_count": 116,
     "metadata": {},
     "output_type": "execute_result"
    }
   ],
   "source": [
    "np.array([1,2,3])+np.array([3,2,1])"
   ]
  },
  {
   "cell_type": "code",
   "execution_count": 117,
   "id": "ef4f0921",
   "metadata": {},
   "outputs": [
    {
     "ename": "ValueError",
     "evalue": "operands could not be broadcast together with shapes (3,) (4,) ",
     "output_type": "error",
     "traceback": [
      "\u001b[0;31m---------------------------------------------------------------------------\u001b[0m",
      "\u001b[0;31mValueError\u001b[0m                                Traceback (most recent call last)",
      "\u001b[0;32m/var/folders/t2/3z1ygvv95h72q7ygpfjbdsgr0000gn/T/ipykernel_57321/3374418214.py\u001b[0m in \u001b[0;36m<module>\u001b[0;34m\u001b[0m\n\u001b[0;32m----> 1\u001b[0;31m \u001b[0mnp\u001b[0m\u001b[0;34m.\u001b[0m\u001b[0marray\u001b[0m\u001b[0;34m(\u001b[0m\u001b[0;34m[\u001b[0m\u001b[0;36m1\u001b[0m\u001b[0;34m,\u001b[0m\u001b[0;36m2\u001b[0m\u001b[0;34m,\u001b[0m\u001b[0;36m3\u001b[0m\u001b[0;34m]\u001b[0m\u001b[0;34m)\u001b[0m\u001b[0;34m+\u001b[0m\u001b[0mnp\u001b[0m\u001b[0;34m.\u001b[0m\u001b[0marray\u001b[0m\u001b[0;34m(\u001b[0m\u001b[0;34m[\u001b[0m\u001b[0;36m3\u001b[0m\u001b[0;34m,\u001b[0m\u001b[0;36m2\u001b[0m\u001b[0;34m,\u001b[0m\u001b[0;36m1\u001b[0m\u001b[0;34m,\u001b[0m\u001b[0;36m1\u001b[0m\u001b[0;34m]\u001b[0m\u001b[0;34m)\u001b[0m\u001b[0;34m\u001b[0m\u001b[0;34m\u001b[0m\u001b[0m\n\u001b[0m",
      "\u001b[0;31mValueError\u001b[0m: operands could not be broadcast together with shapes (3,) (4,) "
     ]
    }
   ],
   "source": [
    "np.array([1,2,3])+np.array([3,2,1,1])"
   ]
  },
  {
   "cell_type": "code",
   "execution_count": 118,
   "id": "508c4089",
   "metadata": {},
   "outputs": [
    {
     "data": {
      "text/plain": [
       "21"
      ]
     },
     "execution_count": 118,
     "metadata": {},
     "output_type": "execute_result"
    }
   ],
   "source": [
    "np.sum(np.array([1,2,3,4,5,6]))"
   ]
  },
  {
   "cell_type": "code",
   "execution_count": 119,
   "id": "c4b8615e",
   "metadata": {},
   "outputs": [
    {
     "data": {
      "text/plain": [
       "3.0"
      ]
     },
     "execution_count": 119,
     "metadata": {},
     "output_type": "execute_result"
    }
   ],
   "source": [
    "np.mean(np.array([1,2,3,4,5]))"
   ]
  },
  {
   "cell_type": "code",
   "execution_count": 120,
   "id": "ef5745c8",
   "metadata": {},
   "outputs": [
    {
     "data": {
      "text/plain": [
       "1"
      ]
     },
     "execution_count": 120,
     "metadata": {},
     "output_type": "execute_result"
    }
   ],
   "source": [
    "np.min(np.array([2,6,3,9,6,78,1]))"
   ]
  },
  {
   "cell_type": "code",
   "execution_count": 121,
   "id": "2ffcf8ba",
   "metadata": {},
   "outputs": [
    {
     "data": {
      "text/plain": [
       "9"
      ]
     },
     "execution_count": 121,
     "metadata": {},
     "output_type": "execute_result"
    }
   ],
   "source": [
    "np.max(np.array([3,2,7,4,9,8,9,5,4]))"
   ]
  },
  {
   "cell_type": "code",
   "execution_count": 122,
   "id": "ade921e3",
   "metadata": {},
   "outputs": [
    {
     "name": "stdout",
     "output_type": "stream",
     "text": [
      "/bin/bash: gdown: command not found\r\n"
     ]
    }
   ],
   "source": [
    "!gdown 1c0ClC8SrPwJq5rrkyMKyPn80nyHcFikK"
   ]
  },
  {
   "cell_type": "code",
   "execution_count": 123,
   "id": "28ce8744",
   "metadata": {},
   "outputs": [
    {
     "name": "stdout",
     "output_type": "stream",
     "text": [
      "Collecting gdown\n",
      "  Downloading gdown-4.7.1-py3-none-any.whl (15 kB)\n",
      "Requirement already satisfied: tqdm in /Users/jitendranathmahato/opt/anaconda3/lib/python3.9/site-packages (from gdown) (4.64.1)\n",
      "Requirement already satisfied: six in /Users/jitendranathmahato/opt/anaconda3/lib/python3.9/site-packages (from gdown) (1.16.0)\n",
      "Requirement already satisfied: beautifulsoup4 in /Users/jitendranathmahato/opt/anaconda3/lib/python3.9/site-packages (from gdown) (4.11.1)\n",
      "Requirement already satisfied: requests[socks] in /Users/jitendranathmahato/opt/anaconda3/lib/python3.9/site-packages (from gdown) (2.28.1)\n",
      "Requirement already satisfied: filelock in /Users/jitendranathmahato/opt/anaconda3/lib/python3.9/site-packages (from gdown) (3.6.0)\n",
      "Requirement already satisfied: soupsieve>1.2 in /Users/jitendranathmahato/opt/anaconda3/lib/python3.9/site-packages (from beautifulsoup4->gdown) (2.3.1)\n",
      "Requirement already satisfied: certifi>=2017.4.17 in /Users/jitendranathmahato/opt/anaconda3/lib/python3.9/site-packages (from requests[socks]->gdown) (2022.9.24)\n",
      "Requirement already satisfied: urllib3<1.27,>=1.21.1 in /Users/jitendranathmahato/opt/anaconda3/lib/python3.9/site-packages (from requests[socks]->gdown) (1.26.11)\n",
      "Requirement already satisfied: charset-normalizer<3,>=2 in /Users/jitendranathmahato/opt/anaconda3/lib/python3.9/site-packages (from requests[socks]->gdown) (2.0.4)\n",
      "Requirement already satisfied: idna<4,>=2.5 in /Users/jitendranathmahato/opt/anaconda3/lib/python3.9/site-packages (from requests[socks]->gdown) (3.3)\n",
      "Requirement already satisfied: PySocks!=1.5.7,>=1.5.6 in /Users/jitendranathmahato/opt/anaconda3/lib/python3.9/site-packages (from requests[socks]->gdown) (1.7.1)\n",
      "Installing collected packages: gdown\n",
      "Successfully installed gdown-4.7.1\n",
      "Note: you may need to restart the kernel to use updated packages.\n"
     ]
    }
   ],
   "source": [
    "pip install gdown"
   ]
  },
  {
   "cell_type": "code",
   "execution_count": 1,
   "id": "68b2b01d",
   "metadata": {},
   "outputs": [
    {
     "name": "stdout",
     "output_type": "stream",
     "text": [
      "Downloading...\n",
      "From: https://drive.google.com/uc?id=1c0ClC8SrPwJq5rrkyMKyPn80nyHcFikK\n",
      "To: /Users/jitendranathmahato/Downloads/Scaler/survey.txt\n",
      "100%|██████████████████████████████████████| 2.55k/2.55k [00:00<00:00, 1.81MB/s]\n"
     ]
    }
   ],
   "source": [
    "!gdown 1c0ClC8SrPwJq5rrkyMKyPn80nyHcFikK"
   ]
  },
  {
   "cell_type": "code",
   "execution_count": 2,
   "id": "d8ca65f3",
   "metadata": {},
   "outputs": [
    {
     "name": "stdout",
     "output_type": "stream",
     "text": [
      "\u001b[34m06_Probability_Distributions_1\u001b[m\u001b[m/\r\n",
      "\u001b[34m07_Probability_Distributions_2\u001b[m\u001b[m/\r\n",
      "Data Via conti..ipynb\r\n",
      "Data Viz with seaborn.ipynb\r\n",
      "Data_Vizzzzzz.ipynb\r\n",
      "MatplotLib conti. + Seaborn.ipynb\r\n",
      "Matplotlib.ipynb\r\n",
      "Matplotlib_Revision.ipynb\r\n",
      "Netflix project.ipynb\r\n",
      "Numpy Final-Cut.ipynb\r\n",
      "Numpy Final.ipynb\r\n",
      "Pandas_4.ipynb\r\n",
      "Pandas_5.ipynb\r\n",
      "Pandas_Rev_conti.ipynb\r\n",
      "Pandas_Revision.ipynb\r\n",
      "Pfizer_1.csv\r\n",
      "Probability Day 1.ipynb\r\n",
      "Probability Day 2.ipynb\r\n",
      "Probability basic defination.ipynb\r\n",
      "Probablity 1 retake.ipynb\r\n",
      "Think Stats, 2nd Edition_ Exploratory Data Analysis ( PDFDrive ).pdf\r\n",
      "Untitled.ipynb\r\n",
      "directors.csv\r\n",
      "\u001b[34mdrive.google.com\u001b[m\u001b[m/\r\n",
      "figure.png\r\n",
      "gapminder.csv\r\n",
      "jupyterthemes.ipynb\r\n",
      "movies.csv\r\n",
      "numpy_pandas_revision.ipynb\r\n",
      "\u001b[34mprob_01_basic_definitions\u001b[m\u001b[m/\r\n",
      "survey.txt\r\n"
     ]
    }
   ],
   "source": [
    "ls"
   ]
  },
  {
   "cell_type": "code",
   "execution_count": 5,
   "id": "a31ed962",
   "metadata": {},
   "outputs": [],
   "source": [
    "survey=np.loadtxt(\"survey.txt\",dtype=\"int\")"
   ]
  },
  {
   "cell_type": "code",
   "execution_count": 6,
   "id": "c9498e07",
   "metadata": {},
   "outputs": [
    {
     "data": {
      "text/plain": [
       "array([ 7, 10,  5, ...,  5,  9, 10])"
      ]
     },
     "execution_count": 6,
     "metadata": {},
     "output_type": "execute_result"
    }
   ],
   "source": [
    "survey"
   ]
  },
  {
   "cell_type": "code",
   "execution_count": 7,
   "id": "eb830a39",
   "metadata": {},
   "outputs": [
    {
     "data": {
      "text/plain": [
       "1"
      ]
     },
     "execution_count": 7,
     "metadata": {},
     "output_type": "execute_result"
    }
   ],
   "source": [
    "survey.ndim"
   ]
  },
  {
   "cell_type": "code",
   "execution_count": 8,
   "id": "b87e96f4",
   "metadata": {},
   "outputs": [
    {
     "data": {
      "text/plain": [
       "(1167,)"
      ]
     },
     "execution_count": 8,
     "metadata": {},
     "output_type": "execute_result"
    }
   ],
   "source": [
    "survey.shape"
   ]
  },
  {
   "cell_type": "code",
   "execution_count": 9,
   "id": "2c686ef7",
   "metadata": {},
   "outputs": [
    {
     "data": {
      "text/plain": [
       "1"
      ]
     },
     "execution_count": 9,
     "metadata": {},
     "output_type": "execute_result"
    }
   ],
   "source": [
    "np.min(survey)"
   ]
  },
  {
   "cell_type": "code",
   "execution_count": 10,
   "id": "b6b98e22",
   "metadata": {},
   "outputs": [
    {
     "data": {
      "text/plain": [
       "10"
      ]
     },
     "execution_count": 10,
     "metadata": {},
     "output_type": "execute_result"
    }
   ],
   "source": [
    "np.max(survey)"
   ]
  },
  {
   "cell_type": "code",
   "execution_count": 11,
   "id": "4e826979",
   "metadata": {},
   "outputs": [],
   "source": [
    "#NPS = %Promoter - %Detractor"
   ]
  },
  {
   "cell_type": "code",
   "execution_count": 14,
   "id": "4ae6d6b4",
   "metadata": {},
   "outputs": [
    {
     "data": {
      "text/plain": [
       "(332,)"
      ]
     },
     "execution_count": 14,
     "metadata": {},
     "output_type": "execute_result"
    }
   ],
   "source": [
    "survey[survey<=6].shape"
   ]
  },
  {
   "cell_type": "code",
   "execution_count": 18,
   "id": "5dc5304c",
   "metadata": {},
   "outputs": [],
   "source": [
    "n_detractors=survey[survey<=6].shape[0]"
   ]
  },
  {
   "cell_type": "code",
   "execution_count": 19,
   "id": "fc9ca802",
   "metadata": {},
   "outputs": [
    {
     "data": {
      "text/plain": [
       "1167"
      ]
     },
     "execution_count": 19,
     "metadata": {},
     "output_type": "execute_result"
    }
   ],
   "source": [
    "total=survey.shape[0]\n",
    "total"
   ]
  },
  {
   "cell_type": "code",
   "execution_count": 21,
   "id": "b01d0bb4",
   "metadata": {},
   "outputs": [
    {
     "data": {
      "text/plain": [
       "28.449014567266495"
      ]
     },
     "execution_count": 21,
     "metadata": {},
     "output_type": "execute_result"
    }
   ],
   "source": [
    "per_detractors=(n_detractors/total)*100\n",
    "per_detractors"
   ]
  },
  {
   "cell_type": "code",
   "execution_count": 22,
   "id": "dd62d78f",
   "metadata": {},
   "outputs": [
    {
     "data": {
      "text/plain": [
       "52.185089974293064"
      ]
     },
     "execution_count": 22,
     "metadata": {},
     "output_type": "execute_result"
    }
   ],
   "source": [
    "promoters=survey[survey>=9].shape[0]\n",
    "per_promoters = (promoters/total)*100\n",
    "per_promoters"
   ]
  },
  {
   "cell_type": "code",
   "execution_count": 23,
   "id": "89c68667",
   "metadata": {},
   "outputs": [
    {
     "data": {
      "text/plain": [
       "23.73607540702657"
      ]
     },
     "execution_count": 23,
     "metadata": {},
     "output_type": "execute_result"
    }
   ],
   "source": [
    "nps=per_promoters-per_detractors\n",
    "nps"
   ]
  },
  {
   "cell_type": "code",
   "execution_count": null,
   "id": "b016dcac",
   "metadata": {},
   "outputs": [],
   "source": []
  },
  {
   "cell_type": "markdown",
   "id": "aafa4b9b",
   "metadata": {},
   "source": [
    "## Day 2"
   ]
  },
  {
   "cell_type": "code",
   "execution_count": 25,
   "id": "1b806d69",
   "metadata": {},
   "outputs": [
    {
     "data": {
      "text/plain": [
       "array([[1, 2, 3, 4],\n",
       "       [5, 6, 7, 8]])"
      ]
     },
     "execution_count": 25,
     "metadata": {},
     "output_type": "execute_result"
    }
   ],
   "source": [
    "a=np.array([[1,2,3,4],[5,6,7,8]])\n",
    "a"
   ]
  },
  {
   "cell_type": "code",
   "execution_count": 26,
   "id": "44e7dc21",
   "metadata": {},
   "outputs": [
    {
     "data": {
      "text/plain": [
       "2"
      ]
     },
     "execution_count": 26,
     "metadata": {},
     "output_type": "execute_result"
    }
   ],
   "source": [
    "a.ndim"
   ]
  },
  {
   "cell_type": "code",
   "execution_count": 27,
   "id": "4bd0a821",
   "metadata": {},
   "outputs": [
    {
     "data": {
      "text/plain": [
       "(2, 4)"
      ]
     },
     "execution_count": 27,
     "metadata": {},
     "output_type": "execute_result"
    }
   ],
   "source": [
    "a.shape"
   ]
  },
  {
   "cell_type": "code",
   "execution_count": 28,
   "id": "d90430b9",
   "metadata": {},
   "outputs": [
    {
     "data": {
      "text/plain": [
       "8"
      ]
     },
     "execution_count": 28,
     "metadata": {},
     "output_type": "execute_result"
    }
   ],
   "source": [
    "a.size"
   ]
  },
  {
   "cell_type": "code",
   "execution_count": 29,
   "id": "1ad699fa",
   "metadata": {},
   "outputs": [
    {
     "data": {
      "text/plain": [
       "2"
      ]
     },
     "execution_count": 29,
     "metadata": {},
     "output_type": "execute_result"
    }
   ],
   "source": [
    "len(a)"
   ]
  },
  {
   "cell_type": "code",
   "execution_count": 30,
   "id": "81aad0be",
   "metadata": {},
   "outputs": [
    {
     "data": {
      "text/plain": [
       "array([[0, 1, 2]])"
      ]
     },
     "execution_count": 30,
     "metadata": {},
     "output_type": "execute_result"
    }
   ],
   "source": [
    "a=np.arange(3).reshape(1,3)\n",
    "a #row vector"
   ]
  },
  {
   "cell_type": "code",
   "execution_count": 31,
   "id": "9f195115",
   "metadata": {},
   "outputs": [
    {
     "data": {
      "text/plain": [
       "array([[0],\n",
       "       [1],\n",
       "       [2]])"
      ]
     },
     "execution_count": 31,
     "metadata": {},
     "output_type": "execute_result"
    }
   ],
   "source": [
    "a.T #columns vector"
   ]
  },
  {
   "cell_type": "code",
   "execution_count": 32,
   "id": "43ea2d72",
   "metadata": {},
   "outputs": [
    {
     "data": {
      "text/plain": [
       "array([[1, 2, 3],\n",
       "       [4, 5, 6],\n",
       "       [7, 8, 9]])"
      ]
     },
     "execution_count": 32,
     "metadata": {},
     "output_type": "execute_result"
    }
   ],
   "source": [
    "a=np.arange(1,10).reshape(3,3)\n",
    "a"
   ]
  },
  {
   "cell_type": "code",
   "execution_count": 33,
   "id": "d37daa89",
   "metadata": {},
   "outputs": [
    {
     "data": {
      "text/plain": [
       "array([4, 5, 6])"
      ]
     },
     "execution_count": 33,
     "metadata": {},
     "output_type": "execute_result"
    }
   ],
   "source": [
    "a[1]"
   ]
  },
  {
   "cell_type": "code",
   "execution_count": 34,
   "id": "542cb840",
   "metadata": {},
   "outputs": [
    {
     "data": {
      "text/plain": [
       "6"
      ]
     },
     "execution_count": 34,
     "metadata": {},
     "output_type": "execute_result"
    }
   ],
   "source": [
    "a[1][2]"
   ]
  },
  {
   "cell_type": "code",
   "execution_count": 35,
   "id": "25a4c904",
   "metadata": {},
   "outputs": [
    {
     "data": {
      "text/plain": [
       "6"
      ]
     },
     "execution_count": 35,
     "metadata": {},
     "output_type": "execute_result"
    }
   ],
   "source": [
    "a[1,2]"
   ]
  },
  {
   "cell_type": "code",
   "execution_count": 36,
   "id": "f5a3cb07",
   "metadata": {},
   "outputs": [
    {
     "data": {
      "text/plain": [
       "array([1, 5, 9])"
      ]
     },
     "execution_count": 36,
     "metadata": {},
     "output_type": "execute_result"
    }
   ],
   "source": [
    "a[[0,1,2],[0,1,2]]"
   ]
  },
  {
   "cell_type": "code",
   "execution_count": 37,
   "id": "00d089bb",
   "metadata": {},
   "outputs": [
    {
     "data": {
      "text/plain": [
       "array([[ 0,  1,  2,  3],\n",
       "       [ 4,  5,  6,  7],\n",
       "       [ 8,  9, 10, 11]])"
      ]
     },
     "execution_count": 37,
     "metadata": {},
     "output_type": "execute_result"
    }
   ],
   "source": [
    "a=np.arange(12).reshape(3,4)\n",
    "a"
   ]
  },
  {
   "cell_type": "code",
   "execution_count": 38,
   "id": "aa84df39",
   "metadata": {},
   "outputs": [
    {
     "data": {
      "text/plain": [
       "array([[0, 1, 2, 3],\n",
       "       [4, 5, 6, 7]])"
      ]
     },
     "execution_count": 38,
     "metadata": {},
     "output_type": "execute_result"
    }
   ],
   "source": [
    "a[:2]"
   ]
  },
  {
   "cell_type": "code",
   "execution_count": 40,
   "id": "44952827",
   "metadata": {},
   "outputs": [
    {
     "data": {
      "text/plain": [
       "array([[0, 1],\n",
       "       [4, 5],\n",
       "       [8, 9]])"
      ]
     },
     "execution_count": 40,
     "metadata": {},
     "output_type": "execute_result"
    }
   ],
   "source": [
    "a[:,:2]"
   ]
  },
  {
   "cell_type": "code",
   "execution_count": 41,
   "id": "7208dbc2",
   "metadata": {},
   "outputs": [
    {
     "data": {
      "text/plain": [
       "array([[ 5,  6],\n",
       "       [ 9, 10]])"
      ]
     },
     "execution_count": 41,
     "metadata": {},
     "output_type": "execute_result"
    }
   ],
   "source": [
    "a[1:,1:3]"
   ]
  },
  {
   "cell_type": "code",
   "execution_count": 42,
   "id": "15a7aec2",
   "metadata": {},
   "outputs": [
    {
     "data": {
      "text/plain": [
       "array([[ 1,  3],\n",
       "       [ 5,  7],\n",
       "       [ 9, 11]])"
      ]
     },
     "execution_count": 42,
     "metadata": {},
     "output_type": "execute_result"
    }
   ],
   "source": [
    "a[:,1::2]"
   ]
  },
  {
   "cell_type": "code",
   "execution_count": 43,
   "id": "2f50a578",
   "metadata": {},
   "outputs": [
    {
     "data": {
      "text/plain": [
       "array([[ 1,  3],\n",
       "       [ 5,  7],\n",
       "       [ 9, 11]])"
      ]
     },
     "execution_count": 43,
     "metadata": {},
     "output_type": "execute_result"
    }
   ],
   "source": [
    "a[:,[1,3]]"
   ]
  },
  {
   "cell_type": "code",
   "execution_count": 44,
   "id": "a0015dc1",
   "metadata": {},
   "outputs": [
    {
     "data": {
      "text/plain": [
       "array([[ 0,  1,  2,  3],\n",
       "       [ 4,  5,  6,  7],\n",
       "       [ 8,  9, 10, 11]])"
      ]
     },
     "execution_count": 44,
     "metadata": {},
     "output_type": "execute_result"
    }
   ],
   "source": [
    "a"
   ]
  },
  {
   "cell_type": "code",
   "execution_count": 45,
   "id": "64536d26",
   "metadata": {},
   "outputs": [
    {
     "data": {
      "text/plain": [
       "array([[ True,  True,  True,  True],\n",
       "       [ True,  True, False, False],\n",
       "       [False, False, False, False]])"
      ]
     },
     "execution_count": 45,
     "metadata": {},
     "output_type": "execute_result"
    }
   ],
   "source": [
    "a<6"
   ]
  },
  {
   "cell_type": "code",
   "execution_count": 46,
   "id": "59d14a28",
   "metadata": {},
   "outputs": [
    {
     "data": {
      "text/plain": [
       "array([0, 1, 2, 3, 4, 5])"
      ]
     },
     "execution_count": 46,
     "metadata": {},
     "output_type": "execute_result"
    }
   ],
   "source": [
    "a[a<6]"
   ]
  },
  {
   "cell_type": "code",
   "execution_count": 47,
   "id": "6957db57",
   "metadata": {},
   "outputs": [
    {
     "data": {
      "text/plain": [
       "66"
      ]
     },
     "execution_count": 47,
     "metadata": {},
     "output_type": "execute_result"
    }
   ],
   "source": [
    "a.sum()"
   ]
  },
  {
   "cell_type": "code",
   "execution_count": 48,
   "id": "5eb16866",
   "metadata": {},
   "outputs": [
    {
     "data": {
      "text/plain": [
       "66"
      ]
     },
     "execution_count": 48,
     "metadata": {},
     "output_type": "execute_result"
    }
   ],
   "source": [
    "np.sum(a)"
   ]
  },
  {
   "cell_type": "code",
   "execution_count": 50,
   "id": "b6f3d244",
   "metadata": {},
   "outputs": [
    {
     "data": {
      "text/plain": [
       "array([[ 0,  1,  2,  3],\n",
       "       [ 4,  5,  6,  7],\n",
       "       [ 8,  9, 10, 11]])"
      ]
     },
     "execution_count": 50,
     "metadata": {},
     "output_type": "execute_result"
    }
   ],
   "source": [
    "a"
   ]
  },
  {
   "cell_type": "code",
   "execution_count": 51,
   "id": "d7815b3e",
   "metadata": {},
   "outputs": [
    {
     "data": {
      "text/plain": [
       "array([12, 15, 18, 21])"
      ]
     },
     "execution_count": 51,
     "metadata": {},
     "output_type": "execute_result"
    }
   ],
   "source": [
    "a.sum(axis=0)"
   ]
  },
  {
   "cell_type": "code",
   "execution_count": 52,
   "id": "d7d0b669",
   "metadata": {},
   "outputs": [
    {
     "data": {
      "text/plain": [
       "array([12, 15, 18, 21])"
      ]
     },
     "execution_count": 52,
     "metadata": {},
     "output_type": "execute_result"
    }
   ],
   "source": [
    "np.sum(a,axis=0)"
   ]
  },
  {
   "cell_type": "code",
   "execution_count": 53,
   "id": "ac64633f",
   "metadata": {},
   "outputs": [
    {
     "data": {
      "text/plain": [
       "array([ True,  True, False, False])"
      ]
     },
     "execution_count": 53,
     "metadata": {},
     "output_type": "execute_result"
    }
   ],
   "source": [
    "a=np.array([1,2,3,4])\n",
    "b=np.array([4,3,2,1])\n",
    "a<b"
   ]
  },
  {
   "cell_type": "code",
   "execution_count": 54,
   "id": "f02697f1",
   "metadata": {},
   "outputs": [
    {
     "data": {
      "text/plain": [
       "False"
      ]
     },
     "execution_count": 54,
     "metadata": {},
     "output_type": "execute_result"
    }
   ],
   "source": [
    "np.all(a<b)"
   ]
  },
  {
   "cell_type": "code",
   "execution_count": 58,
   "id": "48ce5ac4",
   "metadata": {},
   "outputs": [
    {
     "data": {
      "text/plain": [
       "False"
      ]
     },
     "execution_count": 58,
     "metadata": {},
     "output_type": "execute_result"
    }
   ],
   "source": [
    "(a<b).all()"
   ]
  },
  {
   "cell_type": "code",
   "execution_count": 55,
   "id": "2019e24f",
   "metadata": {},
   "outputs": [
    {
     "data": {
      "text/plain": [
       "True"
      ]
     },
     "execution_count": 55,
     "metadata": {},
     "output_type": "execute_result"
    }
   ],
   "source": [
    "np.any(a<b)"
   ]
  },
  {
   "cell_type": "code",
   "execution_count": 59,
   "id": "5385f4f5",
   "metadata": {},
   "outputs": [
    {
     "data": {
      "text/plain": [
       "True"
      ]
     },
     "execution_count": 59,
     "metadata": {},
     "output_type": "execute_result"
    }
   ],
   "source": [
    "(a<b).any()"
   ]
  },
  {
   "cell_type": "code",
   "execution_count": 62,
   "id": "f880a6f0",
   "metadata": {},
   "outputs": [
    {
     "data": {
      "text/plain": [
       "array([-4, -4, -4,  4])"
      ]
     },
     "execution_count": 62,
     "metadata": {},
     "output_type": "execute_result"
    }
   ],
   "source": [
    "np.where(a>3,+4,-4)"
   ]
  },
  {
   "cell_type": "code",
   "execution_count": 61,
   "id": "211b1d6e",
   "metadata": {},
   "outputs": [
    {
     "data": {
      "text/plain": [
       "array([1, 2, 3, 4])"
      ]
     },
     "execution_count": 61,
     "metadata": {},
     "output_type": "execute_result"
    }
   ],
   "source": [
    "a"
   ]
  },
  {
   "cell_type": "code",
   "execution_count": 64,
   "id": "bc716b2c",
   "metadata": {},
   "outputs": [
    {
     "data": {
      "text/plain": [
       "array([1, 2, 3, 4])"
      ]
     },
     "execution_count": 64,
     "metadata": {},
     "output_type": "execute_result"
    }
   ],
   "source": [
    "a.sort()\n",
    "a"
   ]
  },
  {
   "cell_type": "code",
   "execution_count": 65,
   "id": "4d7f5326",
   "metadata": {},
   "outputs": [
    {
     "data": {
      "text/plain": [
       "array([3, 5, 7, 9, 2, 3, 1])"
      ]
     },
     "execution_count": 65,
     "metadata": {},
     "output_type": "execute_result"
    }
   ],
   "source": [
    "a=np.array([3,5,7,9,2,3,1])\n",
    "a"
   ]
  },
  {
   "cell_type": "code",
   "execution_count": 67,
   "id": "b84793a8",
   "metadata": {},
   "outputs": [
    {
     "data": {
      "text/plain": [
       "array([1, 2, 3, 3, 5, 7, 9])"
      ]
     },
     "execution_count": 67,
     "metadata": {},
     "output_type": "execute_result"
    }
   ],
   "source": [
    "a.sort()\n",
    "a"
   ]
  },
  {
   "cell_type": "code",
   "execution_count": 68,
   "id": "467b7c20",
   "metadata": {},
   "outputs": [
    {
     "data": {
      "text/plain": [
       "array([1, 2, 3, 3, 5, 7, 9])"
      ]
     },
     "execution_count": 68,
     "metadata": {},
     "output_type": "execute_result"
    }
   ],
   "source": [
    "a"
   ]
  },
  {
   "cell_type": "code",
   "execution_count": 69,
   "id": "01f421cc",
   "metadata": {},
   "outputs": [
    {
     "data": {
      "text/plain": [
       "array([3, 5, 7, 9, 2, 3, 1])"
      ]
     },
     "execution_count": 69,
     "metadata": {},
     "output_type": "execute_result"
    }
   ],
   "source": [
    "a=np.array([3,5,7,9,2,3,1])\n",
    "a"
   ]
  },
  {
   "cell_type": "code",
   "execution_count": 70,
   "id": "9cf758f3",
   "metadata": {},
   "outputs": [
    {
     "data": {
      "text/plain": [
       "array([1, 2, 3, 3, 5, 7, 9])"
      ]
     },
     "execution_count": 70,
     "metadata": {},
     "output_type": "execute_result"
    }
   ],
   "source": [
    "np.sort(a)"
   ]
  },
  {
   "cell_type": "code",
   "execution_count": 71,
   "id": "3b181ecb",
   "metadata": {},
   "outputs": [
    {
     "data": {
      "text/plain": [
       "array([[1, 2, 3],\n",
       "       [4, 5, 6],\n",
       "       [7, 8, 9]])"
      ]
     },
     "execution_count": 71,
     "metadata": {},
     "output_type": "execute_result"
    }
   ],
   "source": [
    "a=np.arange(1,10).reshape(3,3)\n",
    "a"
   ]
  },
  {
   "cell_type": "code",
   "execution_count": 73,
   "id": "edbc8baf",
   "metadata": {},
   "outputs": [
    {
     "data": {
      "text/plain": [
       "array([[1, 4, 7],\n",
       "       [2, 5, 8],\n",
       "       [3, 6, 9]])"
      ]
     },
     "execution_count": 73,
     "metadata": {},
     "output_type": "execute_result"
    }
   ],
   "source": [
    "a=a.T\n",
    "a"
   ]
  },
  {
   "cell_type": "code",
   "execution_count": 75,
   "id": "765fb1ed",
   "metadata": {},
   "outputs": [
    {
     "data": {
      "text/plain": [
       "array([[7, 4, 1],\n",
       "       [8, 5, 2],\n",
       "       [9, 6, 3]])"
      ]
     },
     "execution_count": 75,
     "metadata": {},
     "output_type": "execute_result"
    }
   ],
   "source": [
    "a[:,::-1]"
   ]
  },
  {
   "cell_type": "code",
   "execution_count": 79,
   "id": "03b6ceeb",
   "metadata": {},
   "outputs": [],
   "source": [
    "birds = ['spoonbills',  'plovers',  'plovers',  'plovers',  'plovers',  'Cranes',  'plovers',  'plovers',  'Cranes',  'spoonbills']\n",
    "age = [5.5, 6.0, 3.5, 1.5, 3.0, 4.0, 3.5, 2.0, 5.5, 6.0]"
   ]
  },
  {
   "cell_type": "code",
   "execution_count": 80,
   "id": "fe8545ce",
   "metadata": {},
   "outputs": [
    {
     "data": {
      "text/plain": [
       "array([3, 7, 4, 2, 6, 5, 0, 8, 1, 9])"
      ]
     },
     "execution_count": 80,
     "metadata": {},
     "output_type": "execute_result"
    }
   ],
   "source": [
    "sorted_age_index = np.argsort(age)\n",
    "sorted_age_index"
   ]
  },
  {
   "cell_type": "code",
   "execution_count": 81,
   "id": "dfb9ed57",
   "metadata": {},
   "outputs": [
    {
     "ename": "TypeError",
     "evalue": "only integer scalar arrays can be converted to a scalar index",
     "output_type": "error",
     "traceback": [
      "\u001b[0;31m---------------------------------------------------------------------------\u001b[0m",
      "\u001b[0;31mTypeError\u001b[0m                                 Traceback (most recent call last)",
      "\u001b[0;32m/var/folders/t2/3z1ygvv95h72q7ygpfjbdsgr0000gn/T/ipykernel_70383/974911168.py\u001b[0m in \u001b[0;36m<module>\u001b[0;34m\u001b[0m\n\u001b[0;32m----> 1\u001b[0;31m \u001b[0mresult\u001b[0m \u001b[0;34m=\u001b[0m  \u001b[0mbirds\u001b[0m\u001b[0;34m[\u001b[0m\u001b[0msorted_age_index\u001b[0m\u001b[0;34m]\u001b[0m\u001b[0;34m\u001b[0m\u001b[0;34m\u001b[0m\u001b[0m\n\u001b[0m\u001b[1;32m      2\u001b[0m \u001b[0mresult\u001b[0m\u001b[0;34m\u001b[0m\u001b[0;34m\u001b[0m\u001b[0m\n",
      "\u001b[0;31mTypeError\u001b[0m: only integer scalar arrays can be converted to a scalar index"
     ]
    }
   ],
   "source": [
    "result =  birds[sorted_age_index]\n",
    "result"
   ]
  },
  {
   "cell_type": "code",
   "execution_count": 88,
   "id": "0201c997",
   "metadata": {},
   "outputs": [
    {
     "data": {
      "text/plain": [
       "array([[ 0,  1,  2,  3],\n",
       "       [ 4,  5,  6,  7],\n",
       "       [ 8,  9, 10, 11],\n",
       "       [12, 13, 14, 15],\n",
       "       [16, 17, 18, 19]])"
      ]
     },
     "execution_count": 88,
     "metadata": {},
     "output_type": "execute_result"
    }
   ],
   "source": [
    "a=np.arange(0,20).reshape(5,4)\n",
    "a"
   ]
  },
  {
   "cell_type": "code",
   "execution_count": 89,
   "id": "48aabfe9",
   "metadata": {},
   "outputs": [
    {
     "data": {
      "text/plain": [
       "array([[ 5,  6,  7],\n",
       "       [ 9, 10, 11],\n",
       "       [13, 14, 15]])"
      ]
     },
     "execution_count": 89,
     "metadata": {},
     "output_type": "execute_result"
    }
   ],
   "source": [
    "a=a[1:4,1:4]\n",
    "a"
   ]
  },
  {
   "cell_type": "code",
   "execution_count": 90,
   "id": "0b81ea21",
   "metadata": {},
   "outputs": [
    {
     "data": {
      "text/plain": [
       "array([[13, 14, 15],\n",
       "       [ 9, 10, 11],\n",
       "       [ 5,  6,  7]])"
      ]
     },
     "execution_count": 90,
     "metadata": {},
     "output_type": "execute_result"
    }
   ],
   "source": [
    "a[::-1]"
   ]
  },
  {
   "cell_type": "markdown",
   "id": "8576025b",
   "metadata": {},
   "source": [
    "## Day 3"
   ]
  },
  {
   "cell_type": "code",
   "execution_count": 91,
   "id": "794b157d",
   "metadata": {},
   "outputs": [
    {
     "name": "stdout",
     "output_type": "stream",
     "text": [
      "\u001b[34m06_Probability_Distributions_1\u001b[m\u001b[m/\r\n",
      "\u001b[34m07_Probability_Distributions_2\u001b[m\u001b[m/\r\n",
      "Data Via conti..ipynb\r\n",
      "Data Viz with seaborn.ipynb\r\n",
      "Data_Vizzzzzz.ipynb\r\n",
      "MatplotLib conti. + Seaborn.ipynb\r\n",
      "Matplotlib.ipynb\r\n",
      "Matplotlib_Revision.ipynb\r\n",
      "Netflix project.ipynb\r\n",
      "Numpy Final-Cut.ipynb\r\n",
      "Numpy Final.ipynb\r\n",
      "Pandas_4.ipynb\r\n",
      "Pandas_5.ipynb\r\n",
      "Pandas_Rev_conti.ipynb\r\n",
      "Pandas_Revision.ipynb\r\n",
      "Pfizer_1.csv\r\n",
      "Probability Day 1.ipynb\r\n",
      "Probability Day 2.ipynb\r\n",
      "Probability basic defination.ipynb\r\n",
      "Probablity 1 retake.ipynb\r\n",
      "Think Stats, 2nd Edition_ Exploratory Data Analysis ( PDFDrive ).pdf\r\n",
      "Untitled.ipynb\r\n",
      "directors.csv\r\n",
      "\u001b[34mdrive.google.com\u001b[m\u001b[m/\r\n",
      "figure.png\r\n",
      "gapminder.csv\r\n",
      "jupyterthemes.ipynb\r\n",
      "movies.csv\r\n",
      "numpy_pandas_revision.ipynb\r\n",
      "\u001b[34mprob_01_basic_definitions\u001b[m\u001b[m/\r\n",
      "survey.txt\r\n"
     ]
    }
   ],
   "source": [
    "ls"
   ]
  },
  {
   "cell_type": "code",
   "execution_count": 92,
   "id": "bd7d0b3f",
   "metadata": {},
   "outputs": [
    {
     "name": "stdout",
     "output_type": "stream",
     "text": [
      "Downloading...\n",
      "From: https://drive.google.com/uc?id=1vk1Pu0djiYcrdc85yUXZ_Rqq2oZNcohd\n",
      "To: /Users/jitendranathmahato/Downloads/Scaler/fit.txt\n",
      "100%|███████████████████████████████████████| 3.43k/3.43k [00:00<00:00, 618kB/s]\n"
     ]
    }
   ],
   "source": [
    "!gdown 1vk1Pu0djiYcrdc85yUXZ_Rqq2oZNcohd"
   ]
  },
  {
   "cell_type": "code",
   "execution_count": 93,
   "id": "bf6b4c99",
   "metadata": {},
   "outputs": [
    {
     "name": "stdout",
     "output_type": "stream",
     "text": [
      "\u001b[34m06_Probability_Distributions_1\u001b[m\u001b[m/\r\n",
      "\u001b[34m07_Probability_Distributions_2\u001b[m\u001b[m/\r\n",
      "Data Via conti..ipynb\r\n",
      "Data Viz with seaborn.ipynb\r\n",
      "Data_Vizzzzzz.ipynb\r\n",
      "MatplotLib conti. + Seaborn.ipynb\r\n",
      "Matplotlib.ipynb\r\n",
      "Matplotlib_Revision.ipynb\r\n",
      "Netflix project.ipynb\r\n",
      "Numpy Final-Cut.ipynb\r\n",
      "Numpy Final.ipynb\r\n",
      "Pandas_4.ipynb\r\n",
      "Pandas_5.ipynb\r\n",
      "Pandas_Rev_conti.ipynb\r\n",
      "Pandas_Revision.ipynb\r\n",
      "Pfizer_1.csv\r\n",
      "Probability Day 1.ipynb\r\n",
      "Probability Day 2.ipynb\r\n",
      "Probability basic defination.ipynb\r\n",
      "Probablity 1 retake.ipynb\r\n",
      "Think Stats, 2nd Edition_ Exploratory Data Analysis ( PDFDrive ).pdf\r\n",
      "Untitled.ipynb\r\n",
      "directors.csv\r\n",
      "\u001b[34mdrive.google.com\u001b[m\u001b[m/\r\n",
      "figure.png\r\n",
      "fit.txt\r\n",
      "gapminder.csv\r\n",
      "jupyterthemes.ipynb\r\n",
      "movies.csv\r\n",
      "numpy_pandas_revision.ipynb\r\n",
      "\u001b[34mprob_01_basic_definitions\u001b[m\u001b[m/\r\n",
      "survey.txt\r\n"
     ]
    }
   ],
   "source": [
    "ls"
   ]
  },
  {
   "cell_type": "code",
   "execution_count": 96,
   "id": "9db5ec29",
   "metadata": {},
   "outputs": [
    {
     "data": {
      "text/plain": [
       "array([['06-10-2017', '5464', 'Neutral', '181', '5', 'Inactive'],\n",
       "       ['07-10-2017', '6041', 'Sad', '197', '8', 'Inactive'],\n",
       "       ['08-10-2017', '25', 'Sad', '0', '5', 'Inactive'],\n",
       "       ['09-10-2017', '5461', 'Sad', '174', '4', 'Inactive'],\n",
       "       ['10-10-2017', '6915', 'Neutral', '223', '5', 'Active'],\n",
       "       ['11-10-2017', '4545', 'Sad', '149', '6', 'Inactive'],\n",
       "       ['12-10-2017', '4340', 'Sad', '140', '6', 'Inactive'],\n",
       "       ['13-10-2017', '1230', 'Sad', '38', '7', 'Inactive'],\n",
       "       ['14-10-2017', '61', 'Sad', '1', '5', 'Inactive'],\n",
       "       ['15-10-2017', '1258', 'Sad', '40', '6', 'Inactive'],\n",
       "       ['16-10-2017', '3148', 'Sad', '101', '8', 'Inactive'],\n",
       "       ['17-10-2017', '4687', 'Sad', '152', '5', 'Inactive'],\n",
       "       ['18-10-2017', '4732', 'Happy', '150', '6', 'Active'],\n",
       "       ['19-10-2017', '3519', 'Sad', '113', '7', 'Inactive'],\n",
       "       ['20-10-2017', '1580', 'Sad', '49', '5', 'Inactive'],\n",
       "       ['21-10-2017', '2822', 'Sad', '86', '6', 'Inactive'],\n",
       "       ['22-10-2017', '181', 'Sad', '6', '8', 'Inactive'],\n",
       "       ['23-10-2017', '3158', 'Neutral', '99', '5', 'Inactive'],\n",
       "       ['24-10-2017', '4383', 'Neutral', '143', '4', 'Inactive'],\n",
       "       ['25-10-2017', '3881', 'Neutral', '125', '5', 'Inactive'],\n",
       "       ['26-10-2017', '4037', 'Neutral', '129', '6', 'Inactive'],\n",
       "       ['27-10-2017', '202', 'Neutral', '6', '8', 'Inactive'],\n",
       "       ['28-10-2017', '292', 'Neutral', '9', '5', 'Inactive'],\n",
       "       ['29-10-2017', '330', 'Happy', '10', '6', 'Inactive'],\n",
       "       ['30-10-2017', '2209', 'Neutral', '72', '5', 'Inactive'],\n",
       "       ['31-10-2017', '4550', 'Happy', '150', '8', 'Active'],\n",
       "       ['01-11-2017', '4435', 'Happy', '141', '5', 'Inactive'],\n",
       "       ['02-11-2017', '4779', 'Happy', '156', '4', 'Inactive'],\n",
       "       ['03-11-2017', '1831', 'Happy', '57', '5', 'Inactive'],\n",
       "       ['04-11-2017', '2255', 'Happy', '72', '4', 'Inactive'],\n",
       "       ['05-11-2017', '539', 'Happy', '17', '5', 'Active'],\n",
       "       ['06-11-2017', '5464', 'Happy', '181', '4', 'Inactive'],\n",
       "       ['07-11-2017', '6041', 'Neutral', '197', '3', 'Inactive'],\n",
       "       ['08-11-2017', '4068', 'Happy', '131', '2', 'Inactive'],\n",
       "       ['09-11-2017', '4683', 'Happy', '154', '9', 'Inactive'],\n",
       "       ['10-11-2017', '4033', 'Happy', '137', '5', 'Inactive'],\n",
       "       ['11-11-2017', '6314', 'Happy', '193', '6', 'Active'],\n",
       "       ['12-11-2017', '614', 'Happy', '19', '4', 'Active'],\n",
       "       ['13-11-2017', '3149', 'Happy', '101', '5', 'Active'],\n",
       "       ['14-11-2017', '4005', 'Happy', '139', '8', 'Active'],\n",
       "       ['15-11-2017', '4880', 'Happy', '164', '4', 'Active'],\n",
       "       ['16-11-2017', '4136', 'Happy', '137', '5', 'Active'],\n",
       "       ['17-11-2017', '705', 'Happy', '22', '6', 'Active'],\n",
       "       ['18-11-2017', '570', 'Neutral', '17', '5', 'Active'],\n",
       "       ['19-11-2017', '269', 'Happy', '9', '6', 'Active'],\n",
       "       ['20-11-2017', '4275', 'Happy', '145', '5', 'Inactive'],\n",
       "       ['21-11-2017', '5999', 'Happy', '192', '6', 'Inactive'],\n",
       "       ['22-11-2017', '4421', 'Happy', '146', '5', 'Inactive'],\n",
       "       ['23-11-2017', '6930', 'Happy', '234', '6', 'Inactive'],\n",
       "       ['24-11-2017', '5195', 'Happy', '167', '5', 'Inactive'],\n",
       "       ['25-11-2017', '546', 'Happy', '16', '6', 'Inactive'],\n",
       "       ['26-11-2017', '493', 'Happy', '17', '7', 'Active'],\n",
       "       ['27-11-2017', '995', 'Happy', '32', '6', 'Active'],\n",
       "       ['28-11-2017', '1163', 'Neutral', '35', '7', 'Active'],\n",
       "       ['29-11-2017', '6676', 'Sad', '220', '6', 'Active'],\n",
       "       ['30-11-2017', '3608', 'Happy', '116', '5', 'Active'],\n",
       "       ['01-12-2017', '774', 'Happy', '23', '6', 'Active'],\n",
       "       ['02-12-2017', '1421', 'Happy', '44', '7', 'Active'],\n",
       "       ['03-12-2017', '4064', 'Happy', '131', '8', 'Active'],\n",
       "       ['04-12-2017', '2725', 'Happy', '86', '8', 'Active'],\n",
       "       ['05-12-2017', '5934', 'Happy', '194', '7', 'Active'],\n",
       "       ['06-12-2017', '1867', 'Happy', '60', '8', 'Active'],\n",
       "       ['07-12-2017', '3721', 'Sad', '121', '5', 'Active'],\n",
       "       ['08-12-2017', '2374', 'Neutral', '76', '4', 'Inactive'],\n",
       "       ['09-12-2017', '2909', 'Neutral', '93', '3', 'Active'],\n",
       "       ['10-12-2017', '1648', 'Sad', '53', '3', 'Active'],\n",
       "       ['11-12-2017', '799', 'Sad', '25', '4', 'Inactive'],\n",
       "       ['12-12-2017', '7102', 'Neutral', '227', '5', 'Active'],\n",
       "       ['13-12-2017', '3941', 'Neutral', '125', '5', 'Active'],\n",
       "       ['14-12-2017', '7422', 'Happy', '243', '5', 'Active'],\n",
       "       ['15-12-2017', '437', 'Neutral', '14', '3', 'Active'],\n",
       "       ['16-12-2017', '1231', 'Neutral', '39', '4', 'Active'],\n",
       "       ['17-12-2017', '1696', 'Sad', '55', '4', 'Inactive'],\n",
       "       ['18-12-2017', '4921', 'Neutral', '158', '5', 'Active'],\n",
       "       ['19-12-2017', '221', 'Sad', '7', '5', 'Active'],\n",
       "       ['20-12-2017', '6500', 'Neutral', '213', '5', 'Active'],\n",
       "       ['21-12-2017', '3575', 'Neutral', '116', '5', 'Active'],\n",
       "       ['22-12-2017', '4061', 'Sad', '129', '5', 'Inactive'],\n",
       "       ['23-12-2017', '651', 'Sad', '21', '5', 'Inactive'],\n",
       "       ['24-12-2017', '753', 'Sad', '28', '4', 'Inactive'],\n",
       "       ['25-12-2017', '518', 'Sad', '16', '3', 'Inactive'],\n",
       "       ['26-12-2017', '5537', 'Happy', '180', '4', 'Active'],\n",
       "       ['27-12-2017', '4108', 'Neutral', '138', '5', 'Active'],\n",
       "       ['28-12-2017', '5376', 'Happy', '176', '5', 'Active'],\n",
       "       ['29-12-2017', '3066', 'Neutral', '99', '4', 'Active'],\n",
       "       ['30-12-2017', '177', 'Sad', '5', '5', 'Inactive'],\n",
       "       ['31-12-2017', '36', 'Sad', '1', '3', 'Inactive'],\n",
       "       ['01-01-2018', '299', 'Sad', '10', '3', 'Inactive'],\n",
       "       ['02-01-2018', '1447', 'Neutral', '47', '3', 'Inactive'],\n",
       "       ['03-01-2018', '2599', 'Neutral', '84', '2', 'Inactive'],\n",
       "       ['04-01-2018', '702', 'Sad', '23', '3', 'Inactive'],\n",
       "       ['05-01-2018', '133', 'Sad', '4', '2', 'Inactive'],\n",
       "       ['06-01-2018', '153', 'Happy', '0', '8', 'Inactive'],\n",
       "       ['07-01-2018', '500', 'Neutral', '0', '5', 'Active'],\n",
       "       ['08-01-2018', '2127', 'Neutral', '0', '5', 'Inactive'],\n",
       "       ['09-01-2018', '2203', 'Happy', '0', '5', 'Active']], dtype='<U10')"
      ]
     },
     "execution_count": 96,
     "metadata": {},
     "output_type": "execute_result"
    }
   ],
   "source": [
    "fit=np.loadtxt(\"fit.txt\",dtype=\"str\")\n",
    "fit"
   ]
  },
  {
   "cell_type": "code",
   "execution_count": 97,
   "id": "f33c19eb",
   "metadata": {},
   "outputs": [
    {
     "data": {
      "text/plain": [
       "array(['06-10-2017', '5464', 'Neutral', '181', '5', 'Inactive'],\n",
       "      dtype='<U10')"
      ]
     },
     "execution_count": 97,
     "metadata": {},
     "output_type": "execute_result"
    }
   ],
   "source": [
    "fit[0]"
   ]
  },
  {
   "cell_type": "code",
   "execution_count": 99,
   "id": "0f2ae900",
   "metadata": {},
   "outputs": [
    {
     "data": {
      "text/plain": [
       "array([['06-10-2017', '07-10-2017', '08-10-2017', '09-10-2017',\n",
       "        '10-10-2017', '11-10-2017', '12-10-2017', '13-10-2017',\n",
       "        '14-10-2017', '15-10-2017', '16-10-2017', '17-10-2017',\n",
       "        '18-10-2017', '19-10-2017', '20-10-2017', '21-10-2017',\n",
       "        '22-10-2017', '23-10-2017', '24-10-2017', '25-10-2017',\n",
       "        '26-10-2017', '27-10-2017', '28-10-2017', '29-10-2017',\n",
       "        '30-10-2017', '31-10-2017', '01-11-2017', '02-11-2017',\n",
       "        '03-11-2017', '04-11-2017', '05-11-2017', '06-11-2017',\n",
       "        '07-11-2017', '08-11-2017', '09-11-2017', '10-11-2017',\n",
       "        '11-11-2017', '12-11-2017', '13-11-2017', '14-11-2017',\n",
       "        '15-11-2017', '16-11-2017', '17-11-2017', '18-11-2017',\n",
       "        '19-11-2017', '20-11-2017', '21-11-2017', '22-11-2017',\n",
       "        '23-11-2017', '24-11-2017', '25-11-2017', '26-11-2017',\n",
       "        '27-11-2017', '28-11-2017', '29-11-2017', '30-11-2017',\n",
       "        '01-12-2017', '02-12-2017', '03-12-2017', '04-12-2017',\n",
       "        '05-12-2017', '06-12-2017', '07-12-2017', '08-12-2017',\n",
       "        '09-12-2017', '10-12-2017', '11-12-2017', '12-12-2017',\n",
       "        '13-12-2017', '14-12-2017', '15-12-2017', '16-12-2017',\n",
       "        '17-12-2017', '18-12-2017', '19-12-2017', '20-12-2017',\n",
       "        '21-12-2017', '22-12-2017', '23-12-2017', '24-12-2017',\n",
       "        '25-12-2017', '26-12-2017', '27-12-2017', '28-12-2017',\n",
       "        '29-12-2017', '30-12-2017', '31-12-2017', '01-01-2018',\n",
       "        '02-01-2018', '03-01-2018', '04-01-2018', '05-01-2018',\n",
       "        '06-01-2018', '07-01-2018', '08-01-2018', '09-01-2018'],\n",
       "       ['5464', '6041', '25', '5461', '6915', '4545', '4340', '1230',\n",
       "        '61', '1258', '3148', '4687', '4732', '3519', '1580', '2822',\n",
       "        '181', '3158', '4383', '3881', '4037', '202', '292', '330',\n",
       "        '2209', '4550', '4435', '4779', '1831', '2255', '539', '5464',\n",
       "        '6041', '4068', '4683', '4033', '6314', '614', '3149', '4005',\n",
       "        '4880', '4136', '705', '570', '269', '4275', '5999', '4421',\n",
       "        '6930', '5195', '546', '493', '995', '1163', '6676', '3608',\n",
       "        '774', '1421', '4064', '2725', '5934', '1867', '3721', '2374',\n",
       "        '2909', '1648', '799', '7102', '3941', '7422', '437', '1231',\n",
       "        '1696', '4921', '221', '6500', '3575', '4061', '651', '753',\n",
       "        '518', '5537', '4108', '5376', '3066', '177', '36', '299',\n",
       "        '1447', '2599', '702', '133', '153', '500', '2127', '2203'],\n",
       "       ['Neutral', 'Sad', 'Sad', 'Sad', 'Neutral', 'Sad', 'Sad', 'Sad',\n",
       "        'Sad', 'Sad', 'Sad', 'Sad', 'Happy', 'Sad', 'Sad', 'Sad', 'Sad',\n",
       "        'Neutral', 'Neutral', 'Neutral', 'Neutral', 'Neutral', 'Neutral',\n",
       "        'Happy', 'Neutral', 'Happy', 'Happy', 'Happy', 'Happy', 'Happy',\n",
       "        'Happy', 'Happy', 'Neutral', 'Happy', 'Happy', 'Happy', 'Happy',\n",
       "        'Happy', 'Happy', 'Happy', 'Happy', 'Happy', 'Happy', 'Neutral',\n",
       "        'Happy', 'Happy', 'Happy', 'Happy', 'Happy', 'Happy', 'Happy',\n",
       "        'Happy', 'Happy', 'Neutral', 'Sad', 'Happy', 'Happy', 'Happy',\n",
       "        'Happy', 'Happy', 'Happy', 'Happy', 'Sad', 'Neutral', 'Neutral',\n",
       "        'Sad', 'Sad', 'Neutral', 'Neutral', 'Happy', 'Neutral',\n",
       "        'Neutral', 'Sad', 'Neutral', 'Sad', 'Neutral', 'Neutral', 'Sad',\n",
       "        'Sad', 'Sad', 'Sad', 'Happy', 'Neutral', 'Happy', 'Neutral',\n",
       "        'Sad', 'Sad', 'Sad', 'Neutral', 'Neutral', 'Sad', 'Sad', 'Happy',\n",
       "        'Neutral', 'Neutral', 'Happy'],\n",
       "       ['181', '197', '0', '174', '223', '149', '140', '38', '1', '40',\n",
       "        '101', '152', '150', '113', '49', '86', '6', '99', '143', '125',\n",
       "        '129', '6', '9', '10', '72', '150', '141', '156', '57', '72',\n",
       "        '17', '181', '197', '131', '154', '137', '193', '19', '101',\n",
       "        '139', '164', '137', '22', '17', '9', '145', '192', '146', '234',\n",
       "        '167', '16', '17', '32', '35', '220', '116', '23', '44', '131',\n",
       "        '86', '194', '60', '121', '76', '93', '53', '25', '227', '125',\n",
       "        '243', '14', '39', '55', '158', '7', '213', '116', '129', '21',\n",
       "        '28', '16', '180', '138', '176', '99', '5', '1', '10', '47',\n",
       "        '84', '23', '4', '0', '0', '0', '0'],\n",
       "       ['5', '8', '5', '4', '5', '6', '6', '7', '5', '6', '8', '5', '6',\n",
       "        '7', '5', '6', '8', '5', '4', '5', '6', '8', '5', '6', '5', '8',\n",
       "        '5', '4', '5', '4', '5', '4', '3', '2', '9', '5', '6', '4', '5',\n",
       "        '8', '4', '5', '6', '5', '6', '5', '6', '5', '6', '5', '6', '7',\n",
       "        '6', '7', '6', '5', '6', '7', '8', '8', '7', '8', '5', '4', '3',\n",
       "        '3', '4', '5', '5', '5', '3', '4', '4', '5', '5', '5', '5', '5',\n",
       "        '5', '4', '3', '4', '5', '5', '4', '5', '3', '3', '3', '2', '3',\n",
       "        '2', '8', '5', '5', '5'],\n",
       "       ['Inactive', 'Inactive', 'Inactive', 'Inactive', 'Active',\n",
       "        'Inactive', 'Inactive', 'Inactive', 'Inactive', 'Inactive',\n",
       "        'Inactive', 'Inactive', 'Active', 'Inactive', 'Inactive',\n",
       "        'Inactive', 'Inactive', 'Inactive', 'Inactive', 'Inactive',\n",
       "        'Inactive', 'Inactive', 'Inactive', 'Inactive', 'Inactive',\n",
       "        'Active', 'Inactive', 'Inactive', 'Inactive', 'Inactive',\n",
       "        'Active', 'Inactive', 'Inactive', 'Inactive', 'Inactive',\n",
       "        'Inactive', 'Active', 'Active', 'Active', 'Active', 'Active',\n",
       "        'Active', 'Active', 'Active', 'Active', 'Inactive', 'Inactive',\n",
       "        'Inactive', 'Inactive', 'Inactive', 'Inactive', 'Active',\n",
       "        'Active', 'Active', 'Active', 'Active', 'Active', 'Active',\n",
       "        'Active', 'Active', 'Active', 'Active', 'Active', 'Inactive',\n",
       "        'Active', 'Active', 'Inactive', 'Active', 'Active', 'Active',\n",
       "        'Active', 'Active', 'Inactive', 'Active', 'Active', 'Active',\n",
       "        'Active', 'Inactive', 'Inactive', 'Inactive', 'Inactive',\n",
       "        'Active', 'Active', 'Active', 'Active', 'Inactive', 'Inactive',\n",
       "        'Inactive', 'Inactive', 'Inactive', 'Inactive', 'Inactive',\n",
       "        'Inactive', 'Active', 'Inactive', 'Active']], dtype='<U10')"
      ]
     },
     "execution_count": 99,
     "metadata": {},
     "output_type": "execute_result"
    }
   ],
   "source": [
    "fit_T=fit.T\n",
    "fit_T"
   ]
  },
  {
   "cell_type": "code",
   "execution_count": 100,
   "id": "fb89b3ae",
   "metadata": {},
   "outputs": [
    {
     "data": {
      "text/plain": [
       "array(['06-10-2017', '07-10-2017', '08-10-2017', '09-10-2017',\n",
       "       '10-10-2017', '11-10-2017', '12-10-2017', '13-10-2017',\n",
       "       '14-10-2017', '15-10-2017', '16-10-2017', '17-10-2017',\n",
       "       '18-10-2017', '19-10-2017', '20-10-2017', '21-10-2017',\n",
       "       '22-10-2017', '23-10-2017', '24-10-2017', '25-10-2017',\n",
       "       '26-10-2017', '27-10-2017', '28-10-2017', '29-10-2017',\n",
       "       '30-10-2017', '31-10-2017', '01-11-2017', '02-11-2017',\n",
       "       '03-11-2017', '04-11-2017', '05-11-2017', '06-11-2017',\n",
       "       '07-11-2017', '08-11-2017', '09-11-2017', '10-11-2017',\n",
       "       '11-11-2017', '12-11-2017', '13-11-2017', '14-11-2017',\n",
       "       '15-11-2017', '16-11-2017', '17-11-2017', '18-11-2017',\n",
       "       '19-11-2017', '20-11-2017', '21-11-2017', '22-11-2017',\n",
       "       '23-11-2017', '24-11-2017', '25-11-2017', '26-11-2017',\n",
       "       '27-11-2017', '28-11-2017', '29-11-2017', '30-11-2017',\n",
       "       '01-12-2017', '02-12-2017', '03-12-2017', '04-12-2017',\n",
       "       '05-12-2017', '06-12-2017', '07-12-2017', '08-12-2017',\n",
       "       '09-12-2017', '10-12-2017', '11-12-2017', '12-12-2017',\n",
       "       '13-12-2017', '14-12-2017', '15-12-2017', '16-12-2017',\n",
       "       '17-12-2017', '18-12-2017', '19-12-2017', '20-12-2017',\n",
       "       '21-12-2017', '22-12-2017', '23-12-2017', '24-12-2017',\n",
       "       '25-12-2017', '26-12-2017', '27-12-2017', '28-12-2017',\n",
       "       '29-12-2017', '30-12-2017', '31-12-2017', '01-01-2018',\n",
       "       '02-01-2018', '03-01-2018', '04-01-2018', '05-01-2018',\n",
       "       '06-01-2018', '07-01-2018', '08-01-2018', '09-01-2018'],\n",
       "      dtype='<U10')"
      ]
     },
     "execution_count": 100,
     "metadata": {},
     "output_type": "execute_result"
    }
   ],
   "source": [
    "fit_T[0]"
   ]
  },
  {
   "cell_type": "code",
   "execution_count": 101,
   "id": "55d3b001",
   "metadata": {},
   "outputs": [
    {
     "data": {
      "text/plain": [
       "(96, 6)"
      ]
     },
     "execution_count": 101,
     "metadata": {},
     "output_type": "execute_result"
    }
   ],
   "source": [
    "fit_bit.shape"
   ]
  },
  {
   "cell_type": "code",
   "execution_count": 102,
   "id": "8689db0f",
   "metadata": {},
   "outputs": [
    {
     "data": {
      "text/plain": [
       "576"
      ]
     },
     "execution_count": 102,
     "metadata": {},
     "output_type": "execute_result"
    }
   ],
   "source": [
    "fit_bit.size"
   ]
  },
  {
   "cell_type": "code",
   "execution_count": null,
   "id": "b75a602e",
   "metadata": {},
   "outputs": [],
   "source": []
  },
  {
   "cell_type": "code",
   "execution_count": null,
   "id": "5b099e0e",
   "metadata": {},
   "outputs": [],
   "source": []
  },
  {
   "cell_type": "code",
   "execution_count": null,
   "id": "b7f1e53c",
   "metadata": {},
   "outputs": [],
   "source": []
  },
  {
   "cell_type": "code",
   "execution_count": null,
   "id": "513017d9",
   "metadata": {},
   "outputs": [],
   "source": []
  },
  {
   "cell_type": "code",
   "execution_count": null,
   "id": "6d029026",
   "metadata": {},
   "outputs": [],
   "source": []
  },
  {
   "cell_type": "markdown",
   "id": "98bbac43",
   "metadata": {},
   "source": [
    "## Day 4"
   ]
  },
  {
   "cell_type": "code",
   "execution_count": 103,
   "id": "d842fd71",
   "metadata": {},
   "outputs": [
    {
     "data": {
      "text/plain": [
       "array([[ 0,  1,  2,  3],\n",
       "       [ 4,  5,  6,  7],\n",
       "       [ 8,  9, 10, 11]])"
      ]
     },
     "execution_count": 103,
     "metadata": {},
     "output_type": "execute_result"
    }
   ],
   "source": [
    "a=np.arange(12).reshape(3,4)\n",
    "a"
   ]
  },
  {
   "cell_type": "code",
   "execution_count": 105,
   "id": "5187bf7a",
   "metadata": {},
   "outputs": [
    {
     "ename": "ValueError",
     "evalue": "cannot reshape array of size 12 into shape (1,1)",
     "output_type": "error",
     "traceback": [
      "\u001b[0;31m---------------------------------------------------------------------------\u001b[0m",
      "\u001b[0;31mValueError\u001b[0m                                Traceback (most recent call last)",
      "\u001b[0;32m/var/folders/t2/3z1ygvv95h72q7ygpfjbdsgr0000gn/T/ipykernel_70383/2239591281.py\u001b[0m in \u001b[0;36m<module>\u001b[0;34m\u001b[0m\n\u001b[0;32m----> 1\u001b[0;31m \u001b[0ma\u001b[0m\u001b[0;34m.\u001b[0m\u001b[0mreshape\u001b[0m\u001b[0;34m(\u001b[0m\u001b[0;36m1\u001b[0m\u001b[0;34m,\u001b[0m\u001b[0;36m1\u001b[0m\u001b[0;34m)\u001b[0m\u001b[0;34m\u001b[0m\u001b[0;34m\u001b[0m\u001b[0m\n\u001b[0m",
      "\u001b[0;31mValueError\u001b[0m: cannot reshape array of size 12 into shape (1,1)"
     ]
    }
   ],
   "source": [
    "a.reshape(1,1)"
   ]
  },
  {
   "cell_type": "code",
   "execution_count": 106,
   "id": "f06d8f7e",
   "metadata": {},
   "outputs": [
    {
     "data": {
      "text/plain": [
       "array([[ 0,  1,  2,  3,  4,  5,  6,  7,  8,  9, 10, 11]])"
      ]
     },
     "execution_count": 106,
     "metadata": {},
     "output_type": "execute_result"
    }
   ],
   "source": [
    "a.reshape(1,12)"
   ]
  },
  {
   "cell_type": "code",
   "execution_count": 107,
   "id": "096a384a",
   "metadata": {},
   "outputs": [
    {
     "data": {
      "text/plain": [
       "array([[ 0,  1,  2,  3],\n",
       "       [ 4,  5,  6,  7],\n",
       "       [ 8,  9, 10, 11]])"
      ]
     },
     "execution_count": 107,
     "metadata": {},
     "output_type": "execute_result"
    }
   ],
   "source": [
    "a.reshape(-1,4)"
   ]
  },
  {
   "cell_type": "code",
   "execution_count": 108,
   "id": "4f235aab",
   "metadata": {},
   "outputs": [
    {
     "data": {
      "text/plain": [
       "array([[ 0,  1,  2,  3],\n",
       "       [ 4,  5,  6,  7],\n",
       "       [ 8,  9, 10, 11]])"
      ]
     },
     "execution_count": 108,
     "metadata": {},
     "output_type": "execute_result"
    }
   ],
   "source": [
    "a.reshape(-2,4)"
   ]
  },
  {
   "cell_type": "code",
   "execution_count": 109,
   "id": "c3e082cd",
   "metadata": {},
   "outputs": [
    {
     "data": {
      "text/plain": [
       "array([[  1,   4,   9,  16],\n",
       "       [ 25,  36,  49,  64],\n",
       "       [ 81, 100, 121, 144]])"
      ]
     },
     "execution_count": 109,
     "metadata": {},
     "output_type": "execute_result"
    }
   ],
   "source": [
    "a=np.arange(1,13).reshape(3,4)\n",
    "b=np.arange(1,13).reshape(3,4)\n",
    "a*b"
   ]
  },
  {
   "cell_type": "code",
   "execution_count": 110,
   "id": "a48dbe26",
   "metadata": {},
   "outputs": [
    {
     "ename": "ValueError",
     "evalue": "matmul: Input operand 1 has a mismatch in its core dimension 0, with gufunc signature (n?,k),(k,m?)->(n?,m?) (size 3 is different from 4)",
     "output_type": "error",
     "traceback": [
      "\u001b[0;31m---------------------------------------------------------------------------\u001b[0m",
      "\u001b[0;31mValueError\u001b[0m                                Traceback (most recent call last)",
      "\u001b[0;32m/var/folders/t2/3z1ygvv95h72q7ygpfjbdsgr0000gn/T/ipykernel_70383/684171433.py\u001b[0m in \u001b[0;36m<module>\u001b[0;34m\u001b[0m\n\u001b[0;32m----> 1\u001b[0;31m \u001b[0mnp\u001b[0m\u001b[0;34m.\u001b[0m\u001b[0mmatmul\u001b[0m\u001b[0;34m(\u001b[0m\u001b[0ma\u001b[0m\u001b[0;34m,\u001b[0m\u001b[0mb\u001b[0m\u001b[0;34m)\u001b[0m\u001b[0;34m\u001b[0m\u001b[0;34m\u001b[0m\u001b[0m\n\u001b[0m",
      "\u001b[0;31mValueError\u001b[0m: matmul: Input operand 1 has a mismatch in its core dimension 0, with gufunc signature (n?,k),(k,m?)->(n?,m?) (size 3 is different from 4)"
     ]
    }
   ],
   "source": [
    "np.matmul(a,b)"
   ]
  },
  {
   "cell_type": "code",
   "execution_count": 111,
   "id": "3c7e3758",
   "metadata": {},
   "outputs": [
    {
     "ename": "ValueError",
     "evalue": "shapes (3,4) and (3,4) not aligned: 4 (dim 1) != 3 (dim 0)",
     "output_type": "error",
     "traceback": [
      "\u001b[0;31m---------------------------------------------------------------------------\u001b[0m",
      "\u001b[0;31mValueError\u001b[0m                                Traceback (most recent call last)",
      "\u001b[0;32m/var/folders/t2/3z1ygvv95h72q7ygpfjbdsgr0000gn/T/ipykernel_70383/1223026733.py\u001b[0m in \u001b[0;36m<module>\u001b[0;34m\u001b[0m\n\u001b[0;32m----> 1\u001b[0;31m \u001b[0mnp\u001b[0m\u001b[0;34m.\u001b[0m\u001b[0mdot\u001b[0m\u001b[0;34m(\u001b[0m\u001b[0ma\u001b[0m\u001b[0;34m,\u001b[0m\u001b[0mb\u001b[0m\u001b[0;34m)\u001b[0m\u001b[0;34m\u001b[0m\u001b[0;34m\u001b[0m\u001b[0m\n\u001b[0m",
      "\u001b[0;32m<__array_function__ internals>\u001b[0m in \u001b[0;36mdot\u001b[0;34m(*args, **kwargs)\u001b[0m\n",
      "\u001b[0;31mValueError\u001b[0m: shapes (3,4) and (3,4) not aligned: 4 (dim 1) != 3 (dim 0)"
     ]
    }
   ],
   "source": [
    "np.dot(a,b)"
   ]
  },
  {
   "cell_type": "code",
   "execution_count": 112,
   "id": "db4e5d81",
   "metadata": {},
   "outputs": [
    {
     "data": {
      "text/plain": [
       "array([[ 30,  70, 110],\n",
       "       [ 70, 174, 278],\n",
       "       [110, 278, 446]])"
      ]
     },
     "execution_count": 112,
     "metadata": {},
     "output_type": "execute_result"
    }
   ],
   "source": [
    "np.dot(a,b.T)"
   ]
  },
  {
   "cell_type": "code",
   "execution_count": 113,
   "id": "5d0b7217",
   "metadata": {},
   "outputs": [
    {
     "data": {
      "text/plain": [
       "array([[ 30,  70, 110],\n",
       "       [ 70, 174, 278],\n",
       "       [110, 278, 446]])"
      ]
     },
     "execution_count": 113,
     "metadata": {},
     "output_type": "execute_result"
    }
   ],
   "source": [
    "np.matmul(a,b.T)"
   ]
  },
  {
   "cell_type": "code",
   "execution_count": 114,
   "id": "240a6ad6",
   "metadata": {},
   "outputs": [
    {
     "data": {
      "text/plain": [
       "32"
      ]
     },
     "execution_count": 114,
     "metadata": {},
     "output_type": "execute_result"
    }
   ],
   "source": [
    "a=np.array([1,2,3])\n",
    "b=np.array([4,5,6])\n",
    "np.dot(a,b)"
   ]
  },
  {
   "cell_type": "code",
   "execution_count": 116,
   "id": "b3917079",
   "metadata": {},
   "outputs": [
    {
     "data": {
      "text/plain": [
       "array([[[ 0,  1,  2,  3],\n",
       "        [ 4,  5,  6,  7],\n",
       "        [ 8,  9, 10, 11]],\n",
       "\n",
       "       [[12, 13, 14, 15],\n",
       "        [16, 17, 18, 19],\n",
       "        [20, 21, 22, 23]]])"
      ]
     },
     "execution_count": 116,
     "metadata": {},
     "output_type": "execute_result"
    }
   ],
   "source": [
    "a=np.arange(24).reshape(2,3,4)\n",
    "a"
   ]
  },
  {
   "cell_type": "code",
   "execution_count": 117,
   "id": "0392db42",
   "metadata": {},
   "outputs": [
    {
     "data": {
      "text/plain": [
       "array([[ 0,  1,  2,  3],\n",
       "       [ 4,  5,  6,  7],\n",
       "       [ 8,  9, 10, 11]])"
      ]
     },
     "execution_count": 117,
     "metadata": {},
     "output_type": "execute_result"
    }
   ],
   "source": [
    "a[0]"
   ]
  },
  {
   "cell_type": "code",
   "execution_count": 118,
   "id": "84b1ea6a",
   "metadata": {},
   "outputs": [
    {
     "data": {
      "text/plain": [
       "0"
      ]
     },
     "execution_count": 118,
     "metadata": {},
     "output_type": "execute_result"
    }
   ],
   "source": [
    "a[0,0,0]"
   ]
  },
  {
   "cell_type": "code",
   "execution_count": 119,
   "id": "ffd161a4",
   "metadata": {},
   "outputs": [
    {
     "data": {
      "text/plain": [
       "17"
      ]
     },
     "execution_count": 119,
     "metadata": {},
     "output_type": "execute_result"
    }
   ],
   "source": [
    "a[1,1,1]"
   ]
  },
  {
   "cell_type": "code",
   "execution_count": 120,
   "id": "c8f9d164",
   "metadata": {},
   "outputs": [
    {
     "data": {
      "text/plain": [
       "array([0, 1, 2])"
      ]
     },
     "execution_count": 120,
     "metadata": {},
     "output_type": "execute_result"
    }
   ],
   "source": [
    "a[0,0,:3]"
   ]
  },
  {
   "cell_type": "code",
   "execution_count": 121,
   "id": "f9194ce2",
   "metadata": {},
   "outputs": [
    {
     "data": {
      "text/plain": [
       "array([[ 7,  4,  8,  5,  1],\n",
       "       [ 8,  0, 11,  3,  5],\n",
       "       [ 9,  6,  3,  5,  0],\n",
       "       [ 1,  5,  7,  3,  2],\n",
       "       [ 4,  7,  2,  9,  1]])"
      ]
     },
     "execution_count": 121,
     "metadata": {},
     "output_type": "execute_result"
    }
   ],
   "source": [
    "a=np.array([[ 7, 4, 8, 5, 1],  \n",
    " [ 8, 0, 11, 3, 5],  \n",
    " [ 9, 6, 3, 5, 0],  \n",
    " [ 1, 5, 7, 3, 2],  \n",
    " [ 4, 7, 2, 9, 1]])\n",
    "a"
   ]
  },
  {
   "cell_type": "code",
   "execution_count": 123,
   "id": "21faa6ef",
   "metadata": {},
   "outputs": [],
   "source": [
    "a=a[a%2==0]"
   ]
  },
  {
   "cell_type": "code",
   "execution_count": 124,
   "id": "fae324ff",
   "metadata": {},
   "outputs": [
    {
     "data": {
      "text/plain": [
       "array([4, 8, 8, 0, 6, 0, 2, 4, 2])"
      ]
     },
     "execution_count": 124,
     "metadata": {},
     "output_type": "execute_result"
    }
   ],
   "source": [
    "a"
   ]
  },
  {
   "cell_type": "code",
   "execution_count": 127,
   "id": "ad63412b",
   "metadata": {},
   "outputs": [
    {
     "data": {
      "text/plain": [
       "9"
      ]
     },
     "execution_count": 127,
     "metadata": {},
     "output_type": "execute_result"
    }
   ],
   "source": [
    "a_len=len(a)\n",
    "a_len"
   ]
  },
  {
   "cell_type": "code",
   "execution_count": 126,
   "id": "78f7c24e",
   "metadata": {},
   "outputs": [
    {
     "data": {
      "text/plain": [
       "(9,)"
      ]
     },
     "execution_count": 126,
     "metadata": {},
     "output_type": "execute_result"
    }
   ],
   "source": [
    "a_shape="
   ]
  },
  {
   "cell_type": "code",
   "execution_count": 140,
   "id": "3c5e4f95",
   "metadata": {},
   "outputs": [],
   "source": [
    "import numpy as np\n",
    "def first_greater(arr, target):\n",
    "    '''arr -> A numpy array\n",
    "       target -> An integer\n",
    "       Output -> A numpy array consisting of an index should be returned'''\n",
    "    \n",
    "    # YOUR CODE GOES HERE\n",
    "    arr=np.array(arr)\n",
    "    arr=np.where(arr>target,+1)\n",
    "    print(arr)\n",
    "    g_t=arr[arr>target]\n",
    "    return g_t"
   ]
  },
  {
   "cell_type": "code",
   "execution_count": 141,
   "id": "870063ec",
   "metadata": {},
   "outputs": [],
   "source": [
    "arr = [-1,2,3,-4,5]\n",
    "target = 3"
   ]
  },
  {
   "cell_type": "code",
   "execution_count": 135,
   "id": "c7d1119d",
   "metadata": {},
   "outputs": [
    {
     "data": {
      "text/plain": [
       "[-1, 2, 3, -4, 5]"
      ]
     },
     "execution_count": 135,
     "metadata": {},
     "output_type": "execute_result"
    }
   ],
   "source": [
    "arr"
   ]
  },
  {
   "cell_type": "code",
   "execution_count": 142,
   "id": "e8616f85",
   "metadata": {},
   "outputs": [
    {
     "data": {
      "text/plain": [
       "list"
      ]
     },
     "execution_count": 142,
     "metadata": {},
     "output_type": "execute_result"
    }
   ],
   "source": [
    "type(arr)"
   ]
  },
  {
   "cell_type": "code",
   "execution_count": 143,
   "id": "939a5ef5",
   "metadata": {},
   "outputs": [
    {
     "data": {
      "text/plain": [
       "array([-1,  2,  3, -4,  5])"
      ]
     },
     "execution_count": 143,
     "metadata": {},
     "output_type": "execute_result"
    }
   ],
   "source": [
    "arr=np.array(arr)\n",
    "arr"
   ]
  },
  {
   "cell_type": "code",
   "execution_count": 144,
   "id": "eb47f9d6",
   "metadata": {},
   "outputs": [
    {
     "data": {
      "text/plain": [
       "numpy.ndarray"
      ]
     },
     "execution_count": 144,
     "metadata": {},
     "output_type": "execute_result"
    }
   ],
   "source": [
    "type(arr)"
   ]
  },
  {
   "cell_type": "code",
   "execution_count": 146,
   "id": "81920467",
   "metadata": {},
   "outputs": [
    {
     "ename": "SyntaxError",
     "evalue": "invalid syntax (2850510866.py, line 1)",
     "output_type": "error",
     "traceback": [
      "\u001b[0;36m  File \u001b[0;32m\"/var/folders/t2/3z1ygvv95h72q7ygpfjbdsgr0000gn/T/ipykernel_70383/2850510866.py\"\u001b[0;36m, line \u001b[0;32m1\u001b[0m\n\u001b[0;31m    np.where(arr>3,+,+)\u001b[0m\n\u001b[0m                    ^\u001b[0m\n\u001b[0;31mSyntaxError\u001b[0m\u001b[0;31m:\u001b[0m invalid syntax\n"
     ]
    }
   ],
   "source": [
    "np.where(arr>3,)"
   ]
  },
  {
   "cell_type": "markdown",
   "id": "525d09c8",
   "metadata": {},
   "source": [
    "# Numpy Day 1 Sangi"
   ]
  },
  {
   "cell_type": "code",
   "execution_count": 147,
   "id": "35331b7d",
   "metadata": {},
   "outputs": [
    {
     "name": "stdout",
     "output_type": "stream",
     "text": [
      "[1, 1, 1, 1, 1]\n"
     ]
    }
   ],
   "source": [
    "a=[1,2,3,4,5]\n",
    "print([1**2 for i in a])"
   ]
  },
  {
   "cell_type": "code",
   "execution_count": 148,
   "id": "2f28b4c3",
   "metadata": {},
   "outputs": [],
   "source": [
    "import numpy as np"
   ]
  },
  {
   "cell_type": "code",
   "execution_count": 149,
   "id": "16437223",
   "metadata": {},
   "outputs": [
    {
     "data": {
      "text/plain": [
       "array([1, 2, 3, 4, 5])"
      ]
     },
     "execution_count": 149,
     "metadata": {},
     "output_type": "execute_result"
    }
   ],
   "source": [
    "b=np.array(a)\n",
    "b"
   ]
  },
  {
   "cell_type": "code",
   "execution_count": 150,
   "id": "e7c92868",
   "metadata": {},
   "outputs": [
    {
     "data": {
      "text/plain": [
       "array([ 1,  4,  9, 16, 25])"
      ]
     },
     "execution_count": 150,
     "metadata": {},
     "output_type": "execute_result"
    }
   ],
   "source": [
    "b**2"
   ]
  },
  {
   "cell_type": "code",
   "execution_count": 151,
   "id": "443ed338",
   "metadata": {},
   "outputs": [
    {
     "name": "stdout",
     "output_type": "stream",
     "text": [
      "4.12 ms ± 161 µs per loop (mean ± std. dev. of 7 runs, 100 loops each)\n"
     ]
    }
   ],
   "source": [
    "l=range(10000)\n",
    "%timeit [i**2 for i in l]"
   ]
  },
  {
   "cell_type": "code",
   "execution_count": 152,
   "id": "6594545d",
   "metadata": {},
   "outputs": [
    {
     "name": "stdout",
     "output_type": "stream",
     "text": [
      "7.98 µs ± 409 ns per loop (mean ± std. dev. of 7 runs, 100000 loops each)\n"
     ]
    }
   ],
   "source": [
    "l=np.arange(10000)\n",
    "%timeit l**2"
   ]
  },
  {
   "cell_type": "code",
   "execution_count": 153,
   "id": "3a76448e",
   "metadata": {},
   "outputs": [
    {
     "data": {
      "text/plain": [
       "array(['1', '2', '3.3', 'Hi', 'True'], dtype='<U32')"
      ]
     },
     "execution_count": 153,
     "metadata": {},
     "output_type": "execute_result"
    }
   ],
   "source": [
    "np.array([1,2,3.3,\"Hi\",True])"
   ]
  },
  {
   "cell_type": "code",
   "execution_count": 154,
   "id": "97afbe5a",
   "metadata": {},
   "outputs": [
    {
     "data": {
      "text/plain": [
       "array([1, 2, 3, 4, 5])"
      ]
     },
     "execution_count": 154,
     "metadata": {},
     "output_type": "execute_result"
    }
   ],
   "source": [
    "a=np.array([1,2,3,4,5])\n",
    "a"
   ]
  },
  {
   "cell_type": "code",
   "execution_count": 155,
   "id": "5862bfb3",
   "metadata": {},
   "outputs": [
    {
     "data": {
      "text/plain": [
       "1"
      ]
     },
     "execution_count": 155,
     "metadata": {},
     "output_type": "execute_result"
    }
   ],
   "source": [
    "a.ndim"
   ]
  },
  {
   "cell_type": "code",
   "execution_count": 156,
   "id": "053b075a",
   "metadata": {},
   "outputs": [
    {
     "data": {
      "text/plain": [
       "1"
      ]
     },
     "execution_count": 156,
     "metadata": {},
     "output_type": "execute_result"
    }
   ],
   "source": [
    "np.ndim(a)"
   ]
  },
  {
   "cell_type": "code",
   "execution_count": 157,
   "id": "001bfee8",
   "metadata": {},
   "outputs": [
    {
     "data": {
      "text/plain": [
       "(5,)"
      ]
     },
     "execution_count": 157,
     "metadata": {},
     "output_type": "execute_result"
    }
   ],
   "source": [
    "a.shape"
   ]
  },
  {
   "cell_type": "code",
   "execution_count": 158,
   "id": "b0b71f5c",
   "metadata": {},
   "outputs": [
    {
     "data": {
      "text/plain": [
       "(5,)"
      ]
     },
     "execution_count": 158,
     "metadata": {},
     "output_type": "execute_result"
    }
   ],
   "source": [
    "np.shape(a)"
   ]
  },
  {
   "cell_type": "code",
   "execution_count": 159,
   "id": "84ada825",
   "metadata": {},
   "outputs": [
    {
     "data": {
      "text/plain": [
       "range(0, 10)"
      ]
     },
     "execution_count": 159,
     "metadata": {},
     "output_type": "execute_result"
    }
   ],
   "source": [
    "range(0,10)"
   ]
  },
  {
   "cell_type": "code",
   "execution_count": 160,
   "id": "ab08d847",
   "metadata": {},
   "outputs": [
    {
     "data": {
      "text/plain": [
       "range(0, 10)"
      ]
     },
     "execution_count": 160,
     "metadata": {},
     "output_type": "execute_result"
    }
   ],
   "source": [
    "a=range(0,10)\n",
    "a"
   ]
  },
  {
   "cell_type": "code",
   "execution_count": 163,
   "id": "82768b29",
   "metadata": {},
   "outputs": [
    {
     "name": "stdout",
     "output_type": "stream",
     "text": [
      "0 1 2 3 4 5 6 7 8 9 "
     ]
    }
   ],
   "source": [
    "for i in a:\n",
    "    print(i,end=\" \")"
   ]
  },
  {
   "cell_type": "markdown",
   "id": "f3818fbd",
   "metadata": {},
   "source": [
    "# Numpy Day 2 Sangi"
   ]
  },
  {
   "cell_type": "code",
   "execution_count": 164,
   "id": "40873bc1",
   "metadata": {},
   "outputs": [
    {
     "data": {
      "text/plain": [
       "array([ 0,  1,  2,  3,  4,  5,  6,  7,  8,  9, 10, 11])"
      ]
     },
     "execution_count": 164,
     "metadata": {},
     "output_type": "execute_result"
    }
   ],
   "source": [
    "a=np.arange(12)\n",
    "a"
   ]
  },
  {
   "cell_type": "code",
   "execution_count": 165,
   "id": "d91c0e08",
   "metadata": {},
   "outputs": [
    {
     "data": {
      "text/plain": [
       "array([ True,  True,  True,  True,  True,  True, False, False, False,\n",
       "       False, False, False])"
      ]
     },
     "execution_count": 165,
     "metadata": {},
     "output_type": "execute_result"
    }
   ],
   "source": [
    "a<6"
   ]
  },
  {
   "cell_type": "code",
   "execution_count": 166,
   "id": "30387a02",
   "metadata": {},
   "outputs": [],
   "source": [
    "mask=a<6"
   ]
  },
  {
   "cell_type": "code",
   "execution_count": 167,
   "id": "65bb1de3",
   "metadata": {},
   "outputs": [
    {
     "data": {
      "text/plain": [
       "array([ True,  True,  True,  True,  True,  True, False, False, False,\n",
       "       False, False, False])"
      ]
     },
     "execution_count": 167,
     "metadata": {},
     "output_type": "execute_result"
    }
   ],
   "source": [
    "mask"
   ]
  },
  {
   "cell_type": "code",
   "execution_count": 168,
   "id": "8a57c5f5",
   "metadata": {},
   "outputs": [
    {
     "data": {
      "text/plain": [
       "array([0, 1, 2, 3, 4, 5])"
      ]
     },
     "execution_count": 168,
     "metadata": {},
     "output_type": "execute_result"
    }
   ],
   "source": [
    "a[mask]"
   ]
  },
  {
   "cell_type": "code",
   "execution_count": 169,
   "id": "3435dccf",
   "metadata": {},
   "outputs": [
    {
     "data": {
      "text/plain": [
       "array([ 0,  1,  2,  3,  4,  5,  6,  7,  8,  9, 10, 11])"
      ]
     },
     "execution_count": 169,
     "metadata": {},
     "output_type": "execute_result"
    }
   ],
   "source": [
    "a"
   ]
  },
  {
   "cell_type": "code",
   "execution_count": 170,
   "id": "e9621200",
   "metadata": {},
   "outputs": [],
   "source": [
    "a1=a%2==0\n",
    "a2=a%5==0"
   ]
  },
  {
   "cell_type": "code",
   "execution_count": 171,
   "id": "721a4412",
   "metadata": {},
   "outputs": [
    {
     "ename": "ValueError",
     "evalue": "The truth value of an array with more than one element is ambiguous. Use a.any() or a.all()",
     "output_type": "error",
     "traceback": [
      "\u001b[0;31m---------------------------------------------------------------------------\u001b[0m",
      "\u001b[0;31mValueError\u001b[0m                                Traceback (most recent call last)",
      "\u001b[0;32m/var/folders/t2/3z1ygvv95h72q7ygpfjbdsgr0000gn/T/ipykernel_70383/1953601174.py\u001b[0m in \u001b[0;36m<module>\u001b[0;34m\u001b[0m\n\u001b[0;32m----> 1\u001b[0;31m \u001b[0ma\u001b[0m\u001b[0;34m[\u001b[0m\u001b[0ma1\u001b[0m \u001b[0;32mor\u001b[0m \u001b[0ma2\u001b[0m\u001b[0;34m]\u001b[0m\u001b[0;34m\u001b[0m\u001b[0;34m\u001b[0m\u001b[0m\n\u001b[0m",
      "\u001b[0;31mValueError\u001b[0m: The truth value of an array with more than one element is ambiguous. Use a.any() or a.all()"
     ]
    }
   ],
   "source": [
    "a[a1 or a2]"
   ]
  },
  {
   "cell_type": "code",
   "execution_count": 172,
   "id": "72680ac8",
   "metadata": {},
   "outputs": [
    {
     "data": {
      "text/plain": [
       "array([ 0,  2,  4,  5,  6,  8, 10])"
      ]
     },
     "execution_count": 172,
     "metadata": {},
     "output_type": "execute_result"
    }
   ],
   "source": [
    "a[a1 | a2]"
   ]
  },
  {
   "cell_type": "code",
   "execution_count": 173,
   "id": "f58db490",
   "metadata": {},
   "outputs": [
    {
     "data": {
      "text/plain": [
       "array([ 0,  1,  2,  3,  4,  5,  6,  7,  8,  9, 10, 11])"
      ]
     },
     "execution_count": 173,
     "metadata": {},
     "output_type": "execute_result"
    }
   ],
   "source": [
    " a"
   ]
  },
  {
   "cell_type": "code",
   "execution_count": 174,
   "id": "b61ecc0b",
   "metadata": {},
   "outputs": [
    {
     "data": {
      "text/plain": [
       "array([ True, False,  True, False,  True, False,  True, False,  True,\n",
       "       False,  True, False])"
      ]
     },
     "execution_count": 174,
     "metadata": {},
     "output_type": "execute_result"
    }
   ],
   "source": [
    "mask=a%2==0\n",
    "mask"
   ]
  },
  {
   "cell_type": "code",
   "execution_count": 175,
   "id": "2428e0b1",
   "metadata": {},
   "outputs": [
    {
     "data": {
      "text/plain": [
       "array([ 0,  2,  4,  6,  8, 10])"
      ]
     },
     "execution_count": 175,
     "metadata": {},
     "output_type": "execute_result"
    }
   ],
   "source": [
    "a[mask]"
   ]
  },
  {
   "cell_type": "code",
   "execution_count": 176,
   "id": "6d63c9ea",
   "metadata": {},
   "outputs": [],
   "source": [
    "a[mask]=-1"
   ]
  },
  {
   "cell_type": "code",
   "execution_count": 177,
   "id": "572898ff",
   "metadata": {},
   "outputs": [
    {
     "data": {
      "text/plain": [
       "array([-1,  1, -1,  3, -1,  5, -1,  7, -1,  9, -1, 11])"
      ]
     },
     "execution_count": 177,
     "metadata": {},
     "output_type": "execute_result"
    }
   ],
   "source": [
    "a"
   ]
  },
  {
   "cell_type": "code",
   "execution_count": 178,
   "id": "2121980f",
   "metadata": {},
   "outputs": [
    {
     "data": {
      "text/plain": [
       "array([ True,  True,  True,  True])"
      ]
     },
     "execution_count": 178,
     "metadata": {},
     "output_type": "execute_result"
    }
   ],
   "source": [
    "a=np.array([1,2,3,4])\n",
    "b=np.array([1,2,3,4])\n",
    "a==b"
   ]
  },
  {
   "cell_type": "code",
   "execution_count": 179,
   "id": "c66df9ce",
   "metadata": {},
   "outputs": [
    {
     "data": {
      "text/plain": [
       "array([False, False, False, False])"
      ]
     },
     "execution_count": 179,
     "metadata": {},
     "output_type": "execute_result"
    }
   ],
   "source": [
    "a>b"
   ]
  },
  {
   "cell_type": "code",
   "execution_count": 181,
   "id": "4c3abee8",
   "metadata": {},
   "outputs": [
    {
     "name": "stdout",
     "output_type": "stream",
     "text": [
      "\u001b[34m06_Probability_Distributions_1\u001b[m\u001b[m/\r\n",
      "\u001b[34m07_Probability_Distributions_2\u001b[m\u001b[m/\r\n",
      "Data Via conti..ipynb\r\n",
      "Data Viz with seaborn.ipynb\r\n",
      "Data_Vizzzzzz.ipynb\r\n",
      "MatplotLib conti. + Seaborn.ipynb\r\n",
      "Matplotlib.ipynb\r\n",
      "Matplotlib_Revision.ipynb\r\n",
      "Netflix project.ipynb\r\n",
      "Numpy Final-Cut.ipynb\r\n",
      "Numpy Final.ipynb\r\n",
      "Pandas_4.ipynb\r\n",
      "Pandas_5.ipynb\r\n",
      "Pandas_Rev_conti.ipynb\r\n",
      "Pandas_Revision.ipynb\r\n",
      "Pfizer_1.csv\r\n",
      "Probability Day 1.ipynb\r\n",
      "Probability Day 2.ipynb\r\n",
      "Probability basic defination.ipynb\r\n",
      "Probablity 1 retake.ipynb\r\n",
      "Think Stats, 2nd Edition_ Exploratory Data Analysis ( PDFDrive ).pdf\r\n",
      "Untitled.ipynb\r\n",
      "directors.csv\r\n",
      "\u001b[34mdrive.google.com\u001b[m\u001b[m/\r\n",
      "figure.png\r\n",
      "fit.txt\r\n",
      "gapminder.csv\r\n",
      "jupyterthemes.ipynb\r\n",
      "movies.csv\r\n",
      "numpy_pandas_revision.ipynb\r\n",
      "\u001b[34mprob_01_basic_definitions\u001b[m\u001b[m/\r\n",
      "survey.txt\r\n"
     ]
    }
   ],
   "source": [
    "ls"
   ]
  },
  {
   "cell_type": "code",
   "execution_count": 182,
   "id": "6320fd41",
   "metadata": {},
   "outputs": [],
   "source": [
    "score=np.loadtxt(\"survey.txt\")"
   ]
  },
  {
   "cell_type": "code",
   "execution_count": 183,
   "id": "e41aa233",
   "metadata": {},
   "outputs": [
    {
     "data": {
      "text/plain": [
       "array([ 7., 10.,  5., ...,  5.,  9., 10.])"
      ]
     },
     "execution_count": 183,
     "metadata": {},
     "output_type": "execute_result"
    }
   ],
   "source": [
    "score"
   ]
  },
  {
   "cell_type": "code",
   "execution_count": 184,
   "id": "3d5a7c2b",
   "metadata": {},
   "outputs": [
    {
     "data": {
      "text/plain": [
       "dtype('float64')"
      ]
     },
     "execution_count": 184,
     "metadata": {},
     "output_type": "execute_result"
    }
   ],
   "source": [
    "score.dtype"
   ]
  },
  {
   "cell_type": "code",
   "execution_count": 185,
   "id": "800c96ff",
   "metadata": {},
   "outputs": [
    {
     "data": {
      "text/plain": [
       "1167"
      ]
     },
     "execution_count": 185,
     "metadata": {},
     "output_type": "execute_result"
    }
   ],
   "source": [
    "score.size"
   ]
  },
  {
   "cell_type": "code",
   "execution_count": 186,
   "id": "cd033a7f",
   "metadata": {},
   "outputs": [
    {
     "data": {
      "text/plain": [
       "(1167,)"
      ]
     },
     "execution_count": 186,
     "metadata": {},
     "output_type": "execute_result"
    }
   ],
   "source": [
    "score.shape"
   ]
  },
  {
   "cell_type": "code",
   "execution_count": 187,
   "id": "dbd8f00b",
   "metadata": {},
   "outputs": [
    {
     "data": {
      "text/plain": [
       "1.0"
      ]
     },
     "execution_count": 187,
     "metadata": {},
     "output_type": "execute_result"
    }
   ],
   "source": [
    "score.min()"
   ]
  },
  {
   "cell_type": "code",
   "execution_count": 188,
   "id": "c01076f2",
   "metadata": {},
   "outputs": [
    {
     "data": {
      "text/plain": [
       "10.0"
      ]
     },
     "execution_count": 188,
     "metadata": {},
     "output_type": "execute_result"
    }
   ],
   "source": [
    "score.max()"
   ]
  },
  {
   "cell_type": "code",
   "execution_count": 192,
   "id": "86ee2a57",
   "metadata": {},
   "outputs": [],
   "source": [
    "detractor=score[score<=6]"
   ]
  },
  {
   "cell_type": "code",
   "execution_count": 193,
   "id": "52fc01ea",
   "metadata": {},
   "outputs": [
    {
     "data": {
      "text/plain": [
       "array([5., 4., 4., 5., 1., 5., 5., 1., 4., 5., 4., 4., 4., 5., 1., 4., 1.,\n",
       "       4., 1., 5., 5., 1., 1., 4., 1., 5., 4., 1., 1., 4., 1., 5., 1., 4.,\n",
       "       4., 1., 1., 1., 1., 1., 1., 1., 4., 1., 1., 5., 5., 5., 4., 4., 1.,\n",
       "       4., 1., 4., 1., 5., 1., 1., 5., 4., 4., 4., 4., 1., 4., 5., 4., 4.,\n",
       "       1., 1., 5., 5., 1., 5., 1., 5., 5., 4., 5., 4., 1., 1., 1., 1., 4.,\n",
       "       1., 4., 4., 5., 4., 1., 1., 1., 1., 5., 4., 5., 5., 4., 1., 5., 1.,\n",
       "       4., 4., 1., 1., 1., 4., 4., 5., 5., 4., 5., 5., 5., 1., 4., 1., 5.,\n",
       "       5., 1., 5., 1., 1., 5., 5., 4., 4., 1., 4., 4., 4., 1., 1., 4., 4.,\n",
       "       4., 5., 5., 1., 1., 4., 1., 4., 1., 4., 1., 4., 1., 4., 1., 5., 4.,\n",
       "       4., 5., 1., 4., 5., 5., 5., 1., 5., 4., 1., 1., 5., 5., 5., 4., 5.,\n",
       "       4., 4., 1., 4., 4., 4., 4., 5., 1., 5., 5., 1., 4., 4., 5., 1., 1.,\n",
       "       4., 5., 5., 5., 1., 4., 5., 5., 4., 1., 5., 5., 5., 1., 1., 5., 5.,\n",
       "       1., 1., 1., 4., 5., 5., 4., 4., 4., 5., 1., 4., 1., 4., 5., 4., 5.,\n",
       "       5., 1., 5., 1., 5., 5., 1., 4., 5., 5., 4., 1., 5., 1., 4., 1., 4.,\n",
       "       1., 1., 1., 1., 1., 1., 4., 1., 5., 4., 5., 1., 5., 1., 5., 4., 4.,\n",
       "       4., 4., 5., 5., 1., 4., 1., 5., 5., 1., 4., 1., 1., 4., 4., 4., 4.,\n",
       "       1., 4., 1., 1., 4., 1., 5., 4., 1., 1., 5., 4., 5., 4., 4., 4., 1.,\n",
       "       5., 5., 1., 4., 5., 4., 4., 4., 1., 4., 1., 4., 4., 4., 5., 1., 1.,\n",
       "       1., 4., 5., 5., 1., 5., 4., 5., 5., 4., 1., 1., 5., 5., 5., 1., 4.,\n",
       "       5., 4., 5., 5., 5., 1., 4., 1., 5.])"
      ]
     },
     "execution_count": 193,
     "metadata": {},
     "output_type": "execute_result"
    }
   ],
   "source": [
    "detractor"
   ]
  },
  {
   "cell_type": "code",
   "execution_count": 196,
   "id": "b0fbd357",
   "metadata": {},
   "outputs": [
    {
     "data": {
      "text/plain": [
       "(332,)"
      ]
     },
     "execution_count": 196,
     "metadata": {},
     "output_type": "execute_result"
    }
   ],
   "source": [
    "detractor.shape"
   ]
  },
  {
   "cell_type": "code",
   "execution_count": 201,
   "id": "23b5d76c",
   "metadata": {},
   "outputs": [
    {
     "data": {
      "text/plain": [
       "332"
      ]
     },
     "execution_count": 201,
     "metadata": {},
     "output_type": "execute_result"
    }
   ],
   "source": [
    "detractor_no=detractor.shape[0]\n",
    "detractor_no"
   ]
  },
  {
   "cell_type": "code",
   "execution_count": 199,
   "id": "512db131",
   "metadata": {},
   "outputs": [
    {
     "data": {
      "text/plain": [
       "1167"
      ]
     },
     "execution_count": 199,
     "metadata": {},
     "output_type": "execute_result"
    }
   ],
   "source": [
    "total=score.shape[0]\n",
    "total"
   ]
  },
  {
   "cell_type": "code",
   "execution_count": 202,
   "id": "7bfcd9e9",
   "metadata": {},
   "outputs": [
    {
     "data": {
      "text/plain": [
       "28.449014567266495"
      ]
     },
     "execution_count": 202,
     "metadata": {},
     "output_type": "execute_result"
    }
   ],
   "source": [
    "per_detractor=(detractor_no/total)*100\n",
    "per_detractor"
   ]
  },
  {
   "cell_type": "code",
   "execution_count": 205,
   "id": "180a8d8b",
   "metadata": {},
   "outputs": [
    {
     "data": {
      "text/plain": [
       "609"
      ]
     },
     "execution_count": 205,
     "metadata": {},
     "output_type": "execute_result"
    }
   ],
   "source": [
    "promotor_no=score[score>=9].shape[0]\n",
    "promotor_no"
   ]
  },
  {
   "cell_type": "code",
   "execution_count": 206,
   "id": "618074a6",
   "metadata": {},
   "outputs": [
    {
     "data": {
      "text/plain": [
       "52.185089974293064"
      ]
     },
     "execution_count": 206,
     "metadata": {},
     "output_type": "execute_result"
    }
   ],
   "source": [
    "per_promotor=(promotor_no/total)*100\n",
    "per_promotor"
   ]
  },
  {
   "cell_type": "code",
   "execution_count": 207,
   "id": "4cc642fc",
   "metadata": {},
   "outputs": [
    {
     "data": {
      "text/plain": [
       "23.73607540702657"
      ]
     },
     "execution_count": 207,
     "metadata": {},
     "output_type": "execute_result"
    }
   ],
   "source": [
    "nps=per_promotor-per_detractor\n",
    "nps"
   ]
  },
  {
   "cell_type": "code",
   "execution_count": 208,
   "id": "268c01a4",
   "metadata": {},
   "outputs": [
    {
     "data": {
      "text/plain": [
       "array([0., 1., 2., 3.])"
      ]
     },
     "execution_count": 208,
     "metadata": {},
     "output_type": "execute_result"
    }
   ],
   "source": [
    "arr = 2*np.arange(0,2,0.5)\n",
    "arr"
   ]
  },
  {
   "cell_type": "code",
   "execution_count": 209,
   "id": "433497e3",
   "metadata": {},
   "outputs": [
    {
     "ename": "ValueError",
     "evalue": "The truth value of an array with more than one element is ambiguous. Use a.any() or a.all()",
     "output_type": "error",
     "traceback": [
      "\u001b[0;31m---------------------------------------------------------------------------\u001b[0m",
      "\u001b[0;31mValueError\u001b[0m                                Traceback (most recent call last)",
      "\u001b[0;32m/var/folders/t2/3z1ygvv95h72q7ygpfjbdsgr0000gn/T/ipykernel_70383/3666402481.py\u001b[0m in \u001b[0;36m<module>\u001b[0;34m\u001b[0m\n\u001b[0;32m----> 1\u001b[0;31m \u001b[0;32mif\u001b[0m \u001b[0marr\u001b[0m \u001b[0;34m<=\u001b[0m \u001b[0;36m0.6\u001b[0m\u001b[0;34m:\u001b[0m\u001b[0;34m\u001b[0m\u001b[0;34m\u001b[0m\u001b[0m\n\u001b[0m\u001b[1;32m      2\u001b[0m     \u001b[0mprint\u001b[0m \u001b[0;34m(\u001b[0m\u001b[0;34m\"condition satisfies\"\u001b[0m\u001b[0;34m)\u001b[0m\u001b[0;34m\u001b[0m\u001b[0;34m\u001b[0m\u001b[0m\n\u001b[1;32m      3\u001b[0m \u001b[0;32melse\u001b[0m\u001b[0;34m:\u001b[0m\u001b[0;34m\u001b[0m\u001b[0;34m\u001b[0m\u001b[0m\n\u001b[1;32m      4\u001b[0m     \u001b[0mprint\u001b[0m \u001b[0;34m(\u001b[0m\u001b[0;34m\"condition doesn't satisfy\"\u001b[0m\u001b[0;34m)\u001b[0m\u001b[0;34m\u001b[0m\u001b[0;34m\u001b[0m\u001b[0m\n",
      "\u001b[0;31mValueError\u001b[0m: The truth value of an array with more than one element is ambiguous. Use a.any() or a.all()"
     ]
    }
   ],
   "source": [
    "if arr <= 0.6:\n",
    "    print (\"condition satisfies\")\n",
    "else:\n",
    "    print (\"condition doesn't satisfy\") "
   ]
  },
  {
   "cell_type": "code",
   "execution_count": 210,
   "id": "d4541b54",
   "metadata": {},
   "outputs": [
    {
     "data": {
      "text/plain": [
       "array([[1., 1., 1., 1., 1.],\n",
       "       [1., 0., 0., 0., 1.],\n",
       "       [1., 0., 0., 0., 1.],\n",
       "       [1., 0., 0., 0., 1.],\n",
       "       [1., 1., 1., 1., 1.]])"
      ]
     },
     "execution_count": 210,
     "metadata": {},
     "output_type": "execute_result"
    }
   ],
   "source": [
    "x = np.ones((5,5))\n",
    "x[1:-1,1:-1] = 0\n",
    "x"
   ]
  },
  {
   "cell_type": "markdown",
   "id": "f7d38be5",
   "metadata": {},
   "source": [
    "# Numpy Day 3 Sangi"
   ]
  },
  {
   "cell_type": "code",
   "execution_count": 212,
   "id": "31f8f800",
   "metadata": {},
   "outputs": [
    {
     "data": {
      "text/plain": [
       "array([1.])"
      ]
     },
     "execution_count": 212,
     "metadata": {},
     "output_type": "execute_result"
    }
   ],
   "source": [
    "np.empty(1)"
   ]
  },
  {
   "cell_type": "code",
   "execution_count": 213,
   "id": "ab92f096",
   "metadata": {},
   "outputs": [
    {
     "data": {
      "text/plain": [
       "array([4.9e-324, 1.5e-323])"
      ]
     },
     "execution_count": 213,
     "metadata": {},
     "output_type": "execute_result"
    }
   ],
   "source": [
    "np.empty(2)"
   ]
  },
  {
   "cell_type": "code",
   "execution_count": 214,
   "id": "f57df234",
   "metadata": {},
   "outputs": [
    {
     "data": {
      "text/plain": [
       "array([1.5e-323, 3.5e-323, 2.0e-323, 9.9e-324, 3.0e-323, 2.5e-323,\n",
       "       0.0e+000, 4.0e-323, 4.9e-324, 4.4e-323])"
      ]
     },
     "execution_count": 214,
     "metadata": {},
     "output_type": "execute_result"
    }
   ],
   "source": [
    "np.empty(10)"
   ]
  },
  {
   "cell_type": "code",
   "execution_count": 216,
   "id": "dd14072b",
   "metadata": {},
   "outputs": [
    {
     "data": {
      "text/plain": [
       "array([[1.5e-323, 3.5e-323, 2.0e-323],\n",
       "       [9.9e-324, 3.0e-323, 2.5e-323],\n",
       "       [4.0e-323, 4.9e-324, 4.4e-323]])"
      ]
     },
     "execution_count": 216,
     "metadata": {},
     "output_type": "execute_result"
    }
   ],
   "source": [
    "np.empty((3,3))"
   ]
  },
  {
   "cell_type": "code",
   "execution_count": 220,
   "id": "e74cff74",
   "metadata": {},
   "outputs": [
    {
     "data": {
      "text/plain": [
       "array([ 1,  3,  6,  8,  3,  5, 89,  2,  4,  6,  8,  0, 23,  5,  6])"
      ]
     },
     "execution_count": 220,
     "metadata": {},
     "output_type": "execute_result"
    }
   ],
   "source": [
    "a=np.array([1,3,6,8,3,5,89,2,4,6,8,0,23,5,6])\n",
    "a"
   ]
  },
  {
   "cell_type": "code",
   "execution_count": 221,
   "id": "43bd3766",
   "metadata": {},
   "outputs": [
    {
     "data": {
      "text/plain": [
       "array([ 0,  1,  2,  3,  4,  5,  6,  8, 23, 89])"
      ]
     },
     "execution_count": 221,
     "metadata": {},
     "output_type": "execute_result"
    }
   ],
   "source": [
    "np.unique(a)"
   ]
  },
  {
   "cell_type": "code",
   "execution_count": 224,
   "id": "2d9f541e",
   "metadata": {},
   "outputs": [
    {
     "data": {
      "text/plain": [
       "(array([ 0,  1,  2,  3,  4,  5,  6,  8, 23, 89]),\n",
       " array([1, 1, 1, 2, 1, 2, 3, 2, 1, 1]))"
      ]
     },
     "execution_count": 224,
     "metadata": {},
     "output_type": "execute_result"
    }
   ],
   "source": [
    "np.unique(a,return_counts=True)"
   ]
  },
  {
   "cell_type": "code",
   "execution_count": 225,
   "id": "35811bbd",
   "metadata": {},
   "outputs": [
    {
     "data": {
      "text/plain": [
       "array([False, False, False, False])"
      ]
     },
     "execution_count": 225,
     "metadata": {},
     "output_type": "execute_result"
    }
   ],
   "source": [
    "a=np.array([0,1,2,3])\n",
    "b=np.array([4,5,6,7])\n",
    "a>=b"
   ]
  },
  {
   "cell_type": "code",
   "execution_count": 226,
   "id": "486c2f9a",
   "metadata": {},
   "outputs": [
    {
     "data": {
      "text/plain": [
       "array([ 0,  1,  2,  3,  4,  5,  6,  7,  8,  9, 10, 11, 12])"
      ]
     },
     "execution_count": 226,
     "metadata": {},
     "output_type": "execute_result"
    }
   ],
   "source": [
    "a=np.arange(13)\n",
    "a"
   ]
  },
  {
   "cell_type": "code",
   "execution_count": 227,
   "id": "53e78a9f",
   "metadata": {},
   "outputs": [
    {
     "data": {
      "text/plain": [
       "array([ True, False,  True, False,  True, False,  True, False,  True,\n",
       "       False,  True, False,  True])"
      ]
     },
     "execution_count": 227,
     "metadata": {},
     "output_type": "execute_result"
    }
   ],
   "source": [
    "mask=a%2==0\n",
    "mask"
   ]
  },
  {
   "cell_type": "code",
   "execution_count": 228,
   "id": "1676ff1b",
   "metadata": {},
   "outputs": [
    {
     "data": {
      "text/plain": [
       "array([-1,  1, -1,  3, -1,  5, -1,  7, -1,  9, -1, 11, -1])"
      ]
     },
     "execution_count": 228,
     "metadata": {},
     "output_type": "execute_result"
    }
   ],
   "source": [
    "a[mask]=-1\n",
    "a"
   ]
  },
  {
   "cell_type": "code",
   "execution_count": 229,
   "id": "2b6c0754",
   "metadata": {},
   "outputs": [
    {
     "data": {
      "text/plain": [
       "array([[ 1,  2,  3,  4],\n",
       "       [ 5,  6,  7,  8],\n",
       "       [ 9, 10, 11, 12]])"
      ]
     },
     "execution_count": 229,
     "metadata": {},
     "output_type": "execute_result"
    }
   ],
   "source": [
    "np.arange(1,13).reshape(3,4)"
   ]
  },
  {
   "cell_type": "code",
   "execution_count": 230,
   "id": "b40a89b9",
   "metadata": {},
   "outputs": [
    {
     "data": {
      "text/plain": [
       "array([-1,  1, -1,  3, -1,  5, -1,  7, -1,  9, -1, 11, -1])"
      ]
     },
     "execution_count": 230,
     "metadata": {},
     "output_type": "execute_result"
    }
   ],
   "source": [
    "a"
   ]
  },
  {
   "cell_type": "code",
   "execution_count": 231,
   "id": "b3f2b45b",
   "metadata": {},
   "outputs": [
    {
     "data": {
      "text/plain": [
       "array([[ 1,  2,  3,  4],\n",
       "       [ 5,  6,  7,  8],\n",
       "       [ 9, 10, 11, 12]])"
      ]
     },
     "execution_count": 231,
     "metadata": {},
     "output_type": "execute_result"
    }
   ],
   "source": [
    "a=np.arange(1,13).reshape(3,4)\n",
    "a"
   ]
  },
  {
   "cell_type": "code",
   "execution_count": 234,
   "id": "201d1f56",
   "metadata": {},
   "outputs": [
    {
     "data": {
      "text/plain": [
       "array([ 1,  2,  3,  4,  5,  6,  7,  8,  9, 10, 11, 12])"
      ]
     },
     "execution_count": 234,
     "metadata": {},
     "output_type": "execute_result"
    }
   ],
   "source": [
    "a.flatten()"
   ]
  },
  {
   "cell_type": "code",
   "execution_count": 235,
   "id": "13b93527",
   "metadata": {},
   "outputs": [
    {
     "data": {
      "text/plain": [
       "array([ 1,  2,  3,  4,  5,  6,  7,  8,  9, 10, 11, 12])"
      ]
     },
     "execution_count": 235,
     "metadata": {},
     "output_type": "execute_result"
    }
   ],
   "source": [
    "a=np.arange(1,13)\n",
    "a"
   ]
  },
  {
   "cell_type": "code",
   "execution_count": null,
   "id": "e547037e",
   "metadata": {},
   "outputs": [],
   "source": []
  }
 ],
 "metadata": {
  "kernelspec": {
   "display_name": "Python 3 (ipykernel)",
   "language": "python",
   "name": "python3"
  },
  "language_info": {
   "codemirror_mode": {
    "name": "ipython",
    "version": 3
   },
   "file_extension": ".py",
   "mimetype": "text/x-python",
   "name": "python",
   "nbconvert_exporter": "python",
   "pygments_lexer": "ipython3",
   "version": "3.9.13"
  }
 },
 "nbformat": 4,
 "nbformat_minor": 5
}
